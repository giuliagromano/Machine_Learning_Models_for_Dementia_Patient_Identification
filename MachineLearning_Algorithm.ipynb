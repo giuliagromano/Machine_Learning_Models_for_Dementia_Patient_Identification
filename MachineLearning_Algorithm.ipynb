{
  "nbformat": 4,
  "nbformat_minor": 0,
  "metadata": {
    "colab": {
      "provenance": [],
      "include_colab_link": true
    },
    "kernelspec": {
      "name": "python3",
      "display_name": "Python 3"
    },
    "language_info": {
      "name": "python"
    }
  },
  "cells": [
    {
      "cell_type": "markdown",
      "metadata": {
        "id": "view-in-github",
        "colab_type": "text"
      },
      "source": [
        "<a href=\"https://colab.research.google.com/github/giuliagromano/Machine_Learning_Models_for_Dementia_Patient_Identification/blob/main/MachineLearning_Algorithm.ipynb\" target=\"_parent\"><img src=\"https://colab.research.google.com/assets/colab-badge.svg\" alt=\"Open In Colab\"/></a>"
      ]
    },
    {
      "cell_type": "markdown",
      "source": [
        "##PROGETTO MACHINE LEARNING\n",
        " **Studenti:\n",
        "Romano Giulia Gelsomina N39001348,\n",
        "Perfetta Vito Daniele N39001372**\n"
      ],
      "metadata": {
        "id": "IfN5q5oC2fy4"
      }
    },
    {
      "cell_type": "markdown",
      "source": [
        "Lo scopo del progetto è l'addestramento tramite vari modelli di Machine Learning per identificare i pazienti con demenza.\n",
        "\n",
        "I dati impiegati fanno riferimento ad OASIS Brains Datasets, Oasis-2."
      ],
      "metadata": {
        "id": "Sm5iSJ5l2w9o"
      }
    },
    {
      "cell_type": "markdown",
      "source": [
        "**Importare le librerie utili:**"
      ],
      "metadata": {
        "id": "47P8R_BBTgWd"
      }
    },
    {
      "cell_type": "code",
      "source": [
        "#libreria di sistema\n",
        "import sys\n",
        "\n",
        "#libreria per analisi di dati\n",
        "import pandas\n",
        "\n",
        "#libreria per plot grafici\n",
        "import matplotlib\n",
        "import matplotlib.pyplot as plt\n",
        "\n",
        "#libreria per analisi statistiche\n",
        "import seaborn as sns\n",
        "\n",
        "#librerie calcolo matematico\n",
        "import numpy as np\n",
        "import scipy\n",
        "\n",
        "#libreria dedicata al Machine Learning\n",
        "import sklearn\n",
        "from sklearn import model_selection\n",
        "from sklearn.metrics import confusion_matrix\n",
        "from sklearn.metrics import accuracy_score\n",
        "from sklearn import tree\n",
        "\n",
        "#dizionario dei classificatori scelto:\n",
        "from sklearn.linear_model import LogisticRegression\n",
        "from sklearn.tree import DecisionTreeClassifier\n",
        "\n",
        "#libreria necessaria a visualizzare regioni decisionali della regressione\n",
        "from mlxtend.plotting import plot_decision_regions\n",
        "from sklearn.preprocessing import StandardScaler\n",
        "\n",
        "#libreria dedicata ai grafici(necessaria alla raprresentazione del decisiontree)\n",
        "import graphviz"
      ],
      "metadata": {
        "id": "bWbqJK_yTprW"
      },
      "execution_count": null,
      "outputs": []
    },
    {
      "cell_type": "markdown",
      "source": [
        "Di seguito sono riportare le versione delle librerie utilizzate"
      ],
      "metadata": {
        "id": "HY76bfDaTp-j"
      }
    },
    {
      "cell_type": "code",
      "source": [
        "print('Versione Python: {}'.format(sys.version))\n",
        "print('Versione libreria scipy: {}'.format(scipy.__version__))\n",
        "print('Versione libreria numpy: {}'.format(np.__version__))\n",
        "print('Versione libreria matplotlib: {}'.format(matplotlib.__version__))\n",
        "print('Versione libreria pandas: {}'.format(pandas.__version__))\n",
        "print('Versione libreria sklearn: {}'.format(sklearn.__version__))\n",
        "print('Versione libreria graphviz: {}'.format(graphviz.__version__))\n",
        "print('Versione libreria seaborn: {}'.format(sns.__version__))"
      ],
      "metadata": {
        "colab": {
          "base_uri": "https://localhost:8080/"
        },
        "id": "0XNELynmWTx5",
        "outputId": "d67497b6-e7f1-4111-8d60-1cfd1767cd10"
      },
      "execution_count": null,
      "outputs": [
        {
          "output_type": "stream",
          "name": "stdout",
          "text": [
            "Versione Python: 3.7.13 (default, Apr 24 2022, 01:04:09) \n",
            "[GCC 7.5.0]\n",
            "Versione libreria scipy: 1.4.1\n",
            "Versione libreria numpy: 1.21.6\n",
            "Versione libreria matplotlib: 3.2.2\n",
            "Versione libreria pandas: 1.3.5\n",
            "Versione libreria sklearn: 1.0.2\n",
            "Versione libreria graphviz: 0.10.1\n",
            "Versione libreria seaborn: 0.11.2\n"
          ]
        }
      ]
    },
    {
      "cell_type": "markdown",
      "source": [
        "#ANALISI DEI DATI"
      ],
      "metadata": {
        "id": "GEKgYsZNWUfo"
      }
    },
    {
      "cell_type": "markdown",
      "source": [
        "Le informazioni fornite fanno riferimento ai seguenti campi:\n",
        "1.   ID del paziente\n",
        "2.   MRI ID -> identificativo della risonanza magnetica\n",
        "3.   Group -> Demented, Non-Demented, Converted (Non Demented rivalutati Demented alla visita medica successiva)\n",
        "4.   Visited -> numero di visite effettuate\n",
        "5.   MR delay -> tempo trascorso dall'ultima visita\n",
        "6.   Sesso -> Maschio o Femmina\n",
        "7.   Hand-> Mano Dominante Destra o Sinistra\n",
        "8.   Età\n",
        "9.   EDUC -> Anni di educazione scolastica\n",
        "10.   SES -> Status Socioeconomico\n",
        "11.  MMSE -> Mini Mental State Examination (test per valutare stato neuro-cognitivo e funzionale del paziente)\n",
        "12.   CDR -> Clinical Dementia Rating (scala numerica che indica gravità della demenza)\n",
        "13.   eTIV -> stima del volume intracranico\n",
        "14.   nWBV -> volume cranico normalizzato\n",
        "15.  ASF -> Atlas Scaling Factor (confronto rispetto dimensioni craniche di riferimento secondo modello Atlas)\n",
        "\n",
        "\n"
      ],
      "metadata": {
        "id": "kGSZi_hi1v13"
      }
    },
    {
      "cell_type": "code",
      "source": [
        "#Caricare il dataset in formato csv in un pandas dataframe chiamato 'dati'\n",
        "dati = pandas.read_csv(\"/content/oasis_longitudinal.csv\")\n",
        "\n",
        "#Verifica correttezza delle dimensioni dataset\n",
        "print('Dimensioni dataframe: {}'.format(dati.shape))\n",
        "\n",
        "#Verifica correttezza dati\n",
        "print('Dataframe dati:\\n {}'.format(dati))"
      ],
      "metadata": {
        "id": "sl3EI2XSTsT6",
        "colab": {
          "base_uri": "https://localhost:8080/"
        },
        "outputId": "f8a6ec08-585f-4b26-8b93-2b205a1d0562"
      },
      "execution_count": null,
      "outputs": [
        {
          "output_type": "stream",
          "name": "stdout",
          "text": [
            "Dimensioni dataframe: (373, 15)\n",
            "Dataframe dati:\n",
            "     Subject ID         MRI ID        Group  Visit  MR Delay M/F Hand  Age  \\\n",
            "0    OAS2_0001  OAS2_0001_MR1  Nondemented      1         0   M    R   87   \n",
            "1    OAS2_0001  OAS2_0001_MR2  Nondemented      2       457   M    R   88   \n",
            "2    OAS2_0002  OAS2_0002_MR1     Demented      1         0   M    R   75   \n",
            "3    OAS2_0002  OAS2_0002_MR2     Demented      2       560   M    R   76   \n",
            "4    OAS2_0002  OAS2_0002_MR3     Demented      3      1895   M    R   80   \n",
            "..         ...            ...          ...    ...       ...  ..  ...  ...   \n",
            "368  OAS2_0185  OAS2_0185_MR2     Demented      2       842   M    R   82   \n",
            "369  OAS2_0185  OAS2_0185_MR3     Demented      3      2297   M    R   86   \n",
            "370  OAS2_0186  OAS2_0186_MR1  Nondemented      1         0   F    R   61   \n",
            "371  OAS2_0186  OAS2_0186_MR2  Nondemented      2       763   F    R   63   \n",
            "372  OAS2_0186  OAS2_0186_MR3  Nondemented      3      1608   F    R   65   \n",
            "\n",
            "     EDUC  SES  MMSE  CDR  eTIV   nWBV    ASF  \n",
            "0      14  2.0  27.0  0.0  1987  0.696  0.883  \n",
            "1      14  2.0  30.0  0.0  2004  0.681  0.876  \n",
            "2      12  NaN  23.0  0.5  1678  0.736  1.046  \n",
            "3      12  NaN  28.0  0.5  1738  0.713  1.010  \n",
            "4      12  NaN  22.0  0.5  1698  0.701  1.034  \n",
            "..    ...  ...   ...  ...   ...    ...    ...  \n",
            "368    16  1.0  28.0  0.5  1693  0.694  1.037  \n",
            "369    16  1.0  26.0  0.5  1688  0.675  1.040  \n",
            "370    13  2.0  30.0  0.0  1319  0.801  1.331  \n",
            "371    13  2.0  30.0  0.0  1327  0.796  1.323  \n",
            "372    13  2.0  30.0  0.0  1333  0.801  1.317  \n",
            "\n",
            "[373 rows x 15 columns]\n"
          ]
        }
      ]
    },
    {
      "cell_type": "markdown",
      "source": [
        "E' possibile osservare che il dataset è stato esaminato su un campione di età caratterizzato da una media di 77 anni:"
      ],
      "metadata": {
        "id": "4n_4j2JgcWAa"
      }
    },
    {
      "cell_type": "code",
      "source": [
        "print ('Age:\\n{}'.format(dati['Age'].describe()))"
      ],
      "metadata": {
        "colab": {
          "base_uri": "https://localhost:8080/"
        },
        "id": "mRyUaqIHcWay",
        "outputId": "804519eb-2632-43d4-82b9-8d38b6eff3ec"
      },
      "execution_count": null,
      "outputs": [
        {
          "output_type": "stream",
          "name": "stdout",
          "text": [
            "Age:\n",
            "count    373.000000\n",
            "mean      77.013405\n",
            "std        7.640957\n",
            "min       60.000000\n",
            "25%       71.000000\n",
            "50%       77.000000\n",
            "75%       82.000000\n",
            "max       98.000000\n",
            "Name: Age, dtype: float64\n"
          ]
        }
      ]
    },
    {
      "cell_type": "markdown",
      "source": [
        "Inoltre, risulta che la maggior parte dei soggetti testati sono delle donne:"
      ],
      "metadata": {
        "id": "KuxpZWTreBmg"
      }
    },
    {
      "cell_type": "code",
      "source": [
        "print(dati.groupby('M/F').size())"
      ],
      "metadata": {
        "colab": {
          "base_uri": "https://localhost:8080/"
        },
        "id": "I-5_1lnqeKds",
        "outputId": "90217fb3-8097-4f10-f607-4705ada91432"
      },
      "execution_count": null,
      "outputs": [
        {
          "output_type": "stream",
          "name": "stdout",
          "text": [
            "M/F\n",
            "F    213\n",
            "M    160\n",
            "dtype: int64\n"
          ]
        }
      ]
    },
    {
      "cell_type": "markdown",
      "source": [
        "Valutando graficamente rispetto ad età e sesso:"
      ],
      "metadata": {
        "id": "yR2T2HsVkbm6"
      }
    },
    {
      "cell_type": "code",
      "source": [
        "sns.jointplot(x=\"Age\",y=\"M/F\",data=dati,size=6)"
      ],
      "metadata": {
        "colab": {
          "base_uri": "https://localhost:8080/",
          "height": 513
        },
        "id": "UvAm_G6oi0t1",
        "outputId": "8516301f-a853-435b-fe84-fe75ace4786f"
      },
      "execution_count": null,
      "outputs": [
        {
          "output_type": "stream",
          "name": "stderr",
          "text": [
            "/usr/local/lib/python3.7/dist-packages/seaborn/axisgrid.py:2182: UserWarning: The `size` parameter has been renamed to `height`; please update your code.\n",
            "  warnings.warn(msg, UserWarning)\n"
          ]
        },
        {
          "output_type": "execute_result",
          "data": {
            "text/plain": [
              "<seaborn.axisgrid.JointGrid at 0x7fe87880ab90>"
            ]
          },
          "metadata": {},
          "execution_count": 6
        },
        {
          "output_type": "display_data",
          "data": {
            "text/plain": [
              "<Figure size 432x432 with 3 Axes>"
            ],
            "image/png": "[encoded data removed]"
          },
          "metadata": {
            "needs_background": "light"
          }
        }
      ]
    },
    {
      "cell_type": "markdown",
      "source": [
        "Tramite degli istogramma è possibile osservare come variano i parametri del dataset: il numero di visite, MR delay, Età, Educazione, Situazione SocioEconomica, MMSE, CDR, eTIV, nWBv, ASF."
      ],
      "metadata": {
        "id": "XoGu-z-JekjO"
      }
    },
    {
      "cell_type": "code",
      "source": [
        "dati.hist(bins=10,figsize=(10,10))\n",
        "plt.show()"
      ],
      "metadata": {
        "colab": {
          "base_uri": "https://localhost:8080/",
          "height": 607
        },
        "id": "FyjSLT8gfgCH",
        "outputId": "1c47a211-7962-4bba-8c74-d764a8fadf1a"
      },
      "execution_count": null,
      "outputs": [
        {
          "output_type": "display_data",
          "data": {
            "text/plain": [
              "<Figure size 720x720 with 12 Axes>"
            ],
            "image/png": "[encoded data removed]"
          },
          "metadata": {
            "needs_background": "light"
          }
        }
      ]
    },
    {
      "cell_type": "markdown",
      "source": [
        "#PRE-ELABORAZIONE DEI DATI"
      ],
      "metadata": {
        "id": "9XQt1nFKTsiN"
      }
    },
    {
      "cell_type": "markdown",
      "source": [
        "Scelta delle features:"
      ],
      "metadata": {
        "id": "feFm5V5mMFHa"
      }
    },
    {
      "cell_type": "markdown",
      "source": [
        "E' possibile osservare che alcuni ID si ripetono, questo perchè lo stesso paziente è stato visitato più volte (il numero è indicato da visited) per ricevere successive diagnosi.\n",
        "Per utilizzare l'intero dataset si possono valutare come se fossero pazienti differenti. Non ha dunque senso prendere in ingresso le features Visited e Mr Delay."
      ],
      "metadata": {
        "id": "6lkk66ZRYkYc"
      }
    },
    {
      "cell_type": "code",
      "source": [
        "#Si rimuovono le colonne non necessarie al fine della valutazione dello stato del paziente:\n",
        "dati1 = dati.drop(['Subject ID','MRI ID','MR Delay','Visit'], axis=1)"
      ],
      "metadata": {
        "id": "zGG7kRTvYoik"
      },
      "execution_count": null,
      "outputs": []
    },
    {
      "cell_type": "code",
      "source": [
        "#Poichè i pazienti analizzati sono tutti Right Hand, la colonna Hand risulta superflua\n",
        "print(dati1.groupby('Hand').size())\n",
        "dati2 = dati1.drop(['Hand'], axis=1)\n"
      ],
      "metadata": {
        "colab": {
          "base_uri": "https://localhost:8080/"
        },
        "id": "uUXZ6op_MFrT",
        "outputId": "002de78e-1218-4c4a-dab3-fd568a4becea"
      },
      "execution_count": null,
      "outputs": [
        {
          "output_type": "stream",
          "name": "stdout",
          "text": [
            "Hand\n",
            "R    373\n",
            "dtype: int64\n"
          ]
        }
      ]
    },
    {
      "cell_type": "code",
      "source": [
        "#Per la creazione del modello, è necessario sostituire tutti i valori alfabetici con valori numerici:\n",
        "#Sostituire i NaN presenti in ASF e in MMSE con 0 , in questo modo si intede che la situazione patrimoniale non è\n",
        "#conosciuta e non è stato eseguito il testo MMSE\n",
        "dati3 = dati2.replace(np.nan,0)\n",
        "\n",
        "#Sostituire con valori numeri M/F, in modo da aver M=1 e F=0\n",
        "dati3['M/F'] = dati3['M/F'].replace(['F','M'], [0,1])\n"
      ],
      "metadata": {
        "id": "EWeF-GUtTvNw"
      },
      "execution_count": null,
      "outputs": []
    },
    {
      "cell_type": "code",
      "source": [
        "#Dalle informazioni in allegato al dataset, segue che i converted sono pazienti valutati inizialmente nondemented e poi rivalutati demented,\n",
        "#sono quindi caratterizzabili come demented:\n",
        "dati3['Group'] = dati3['Group'].replace(['Converted'], ['Demented'])\n",
        "\n",
        "print('Dataframe con modifiche:\\n ')\n",
        "dati3"
      ],
      "metadata": {
        "colab": {
          "base_uri": "https://localhost:8080/",
          "height": 458
        },
        "id": "i_dX67YoBO5K",
        "outputId": "15fc3cb0-3507-4900-a3cf-d5c25d17bf53"
      },
      "execution_count": null,
      "outputs": [
        {
          "output_type": "stream",
          "name": "stdout",
          "text": [
            "Dataframe con modifiche:\n",
            " \n"
          ]
        },
        {
          "output_type": "execute_result",
          "data": {
            "text/plain": [
              "           Group  M/F  Age  EDUC  SES  MMSE  CDR  eTIV   nWBV    ASF\n",
              "0    Nondemented    1   87    14  2.0  27.0  0.0  1987  0.696  0.883\n",
              "1    Nondemented    1   88    14  2.0  30.0  0.0  2004  0.681  0.876\n",
              "2       Demented    1   75    12  0.0  23.0  0.5  1678  0.736  1.046\n",
              "3       Demented    1   76    12  0.0  28.0  0.5  1738  0.713  1.010\n",
              "4       Demented    1   80    12  0.0  22.0  0.5  1698  0.701  1.034\n",
              "..           ...  ...  ...   ...  ...   ...  ...   ...    ...    ...\n",
              "368     Demented    1   82    16  1.0  28.0  0.5  1693  0.694  1.037\n",
              "369     Demented    1   86    16  1.0  26.0  0.5  1688  0.675  1.040\n",
              "370  Nondemented    0   61    13  2.0  30.0  0.0  1319  0.801  1.331\n",
              "371  Nondemented    0   63    13  2.0  30.0  0.0  1327  0.796  1.323\n",
              "372  Nondemented    0   65    13  2.0  30.0  0.0  1333  0.801  1.317\n",
              "\n",
              "[373 rows x 10 columns]"
            ],
            "text/html": [
              "\n",
              "  <div id=\"df-e896f406-4a69-4f61-a831-316b43f07a6c\">\n",
              "    <div class=\"colab-df-container\">\n",
              "      <div>\n",
              "<style scoped>\n",
              "    .dataframe tbody tr th:only-of-type {\n",
              "        vertical-align: middle;\n",
              "    }\n",
              "\n",
              "    .dataframe tbody tr th {\n",
              "        vertical-align: top;\n",
              "    }\n",
              "\n",
              "    .dataframe thead th {\n",
              "        text-align: right;\n",
              "    }\n",
              "</style>\n",
              "<table border=\"1\" class=\"dataframe\">\n",
              "  <thead>\n",
              "    <tr style=\"text-align: right;\">\n",
              "      <th></th>\n",
              "      <th>Group</th>\n",
              "      <th>M/F</th>\n",
              "      <th>Age</th>\n",
              "      <th>EDUC</th>\n",
              "      <th>SES</th>\n",
              "      <th>MMSE</th>\n",
              "      <th>CDR</th>\n",
              "      <th>eTIV</th>\n",
              "      <th>nWBV</th>\n",
              "      <th>ASF</th>\n",
              "    </tr>\n",
              "  </thead>\n",
              "  <tbody>\n",
              "    <tr>\n",
              "      <th>0</th>\n",
              "      <td>Nondemented</td>\n",
              "      <td>1</td>\n",
              "      <td>87</td>\n",
              "      <td>14</td>\n",
              "      <td>2.0</td>\n",
              "      <td>27.0</td>\n",
              "      <td>0.0</td>\n",
              "      <td>1987</td>\n",
              "      <td>0.696</td>\n",
              "      <td>0.883</td>\n",
              "    </tr>\n",
              "    <tr>\n",
              "      <th>1</th>\n",
              "      <td>Nondemented</td>\n",
              "      <td>1</td>\n",
              "      <td>88</td>\n",
              "      <td>14</td>\n",
              "      <td>2.0</td>\n",
              "      <td>30.0</td>\n",
              "      <td>0.0</td>\n",
              "      <td>2004</td>\n",
              "      <td>0.681</td>\n",
              "      <td>0.876</td>\n",
              "    </tr>\n",
              "    <tr>\n",
              "      <th>2</th>\n",
              "      <td>Demented</td>\n",
              "      <td>1</td>\n",
              "      <td>75</td>\n",
              "      <td>12</td>\n",
              "      <td>0.0</td>\n",
              "      <td>23.0</td>\n",
              "      <td>0.5</td>\n",
              "      <td>1678</td>\n",
              "      <td>0.736</td>\n",
              "      <td>1.046</td>\n",
              "    </tr>\n",
              "    <tr>\n",
              "      <th>3</th>\n",
              "      <td>Demented</td>\n",
              "      <td>1</td>\n",
              "      <td>76</td>\n",
              "      <td>12</td>\n",
              "      <td>0.0</td>\n",
              "      <td>28.0</td>\n",
              "      <td>0.5</td>\n",
              "      <td>1738</td>\n",
              "      <td>0.713</td>\n",
              "      <td>1.010</td>\n",
              "    </tr>\n",
              "    <tr>\n",
              "      <th>4</th>\n",
              "      <td>Demented</td>\n",
              "      <td>1</td>\n",
              "      <td>80</td>\n",
              "      <td>12</td>\n",
              "      <td>0.0</td>\n",
              "      <td>22.0</td>\n",
              "      <td>0.5</td>\n",
              "      <td>1698</td>\n",
              "      <td>0.701</td>\n",
              "      <td>1.034</td>\n",
              "    </tr>\n",
              "    <tr>\n",
              "      <th>...</th>\n",
              "      <td>...</td>\n",
              "      <td>...</td>\n",
              "      <td>...</td>\n",
              "      <td>...</td>\n",
              "      <td>...</td>\n",
              "      <td>...</td>\n",
              "      <td>...</td>\n",
              "      <td>...</td>\n",
              "      <td>...</td>\n",
              "      <td>...</td>\n",
              "    </tr>\n",
              "    <tr>\n",
              "      <th>368</th>\n",
              "      <td>Demented</td>\n",
              "      <td>1</td>\n",
              "      <td>82</td>\n",
              "      <td>16</td>\n",
              "      <td>1.0</td>\n",
              "      <td>28.0</td>\n",
              "      <td>0.5</td>\n",
              "      <td>1693</td>\n",
              "      <td>0.694</td>\n",
              "      <td>1.037</td>\n",
              "    </tr>\n",
              "    <tr>\n",
              "      <th>369</th>\n",
              "      <td>Demented</td>\n",
              "      <td>1</td>\n",
              "      <td>86</td>\n",
              "      <td>16</td>\n",
              "      <td>1.0</td>\n",
              "      <td>26.0</td>\n",
              "      <td>0.5</td>\n",
              "      <td>1688</td>\n",
              "      <td>0.675</td>\n",
              "      <td>1.040</td>\n",
              "    </tr>\n",
              "    <tr>\n",
              "      <th>370</th>\n",
              "      <td>Nondemented</td>\n",
              "      <td>0</td>\n",
              "      <td>61</td>\n",
              "      <td>13</td>\n",
              "      <td>2.0</td>\n",
              "      <td>30.0</td>\n",
              "      <td>0.0</td>\n",
              "      <td>1319</td>\n",
              "      <td>0.801</td>\n",
              "      <td>1.331</td>\n",
              "    </tr>\n",
              "    <tr>\n",
              "      <th>371</th>\n",
              "      <td>Nondemented</td>\n",
              "      <td>0</td>\n",
              "      <td>63</td>\n",
              "      <td>13</td>\n",
              "      <td>2.0</td>\n",
              "      <td>30.0</td>\n",
              "      <td>0.0</td>\n",
              "      <td>1327</td>\n",
              "      <td>0.796</td>\n",
              "      <td>1.323</td>\n",
              "    </tr>\n",
              "    <tr>\n",
              "      <th>372</th>\n",
              "      <td>Nondemented</td>\n",
              "      <td>0</td>\n",
              "      <td>65</td>\n",
              "      <td>13</td>\n",
              "      <td>2.0</td>\n",
              "      <td>30.0</td>\n",
              "      <td>0.0</td>\n",
              "      <td>1333</td>\n",
              "      <td>0.801</td>\n",
              "      <td>1.317</td>\n",
              "    </tr>\n",
              "  </tbody>\n",
              "</table>\n",
              "<p>373 rows × 10 columns</p>\n",
              "</div>\n",
              "      <button class=\"colab-df-convert\" onclick=\"convertToInteractive('df-e896f406-4a69-4f61-a831-316b43f07a6c')\"\n",
              "              title=\"Convert this dataframe to an interactive table.\"\n",
              "              style=\"display:none;\">\n",
              "        \n",
              "  <svg xmlns=\"http://www.w3.org/2000/svg\" height=\"24px\"viewBox=\"0 0 24 24\"\n",
              "       width=\"24px\">\n",
              "    <path d=\"M0 0h24v24H0V0z\" fill=\"none\"/>\n",
              "    <path d=\"M18.56 5.44l.94 2.06.94-2.06 2.06-.94-2.06-.94-.94-2.06-.94 2.06-2.06.94zm-11 1L8.5 8.5l.94-2.06 2.06-.94-2.06-.94L8.5 2.5l-.94 2.06-2.06.94zm10 10l.94 2.06.94-2.06 2.06-.94-2.06-.94-.94-2.06-.94 2.06-2.06.94z\"/><path d=\"M17.41 7.96l-1.37-1.37c-.4-.4-.92-.59-1.43-.59-.52 0-1.04.2-1.43.59L10.3 9.45l-7.72 7.72c-.78.78-.78 2.05 0 2.83L4 21.41c.39.39.9.59 1.41.59.51 0 1.02-.2 1.41-.59l7.78-7.78 2.81-2.81c.8-.78.8-2.07 0-2.86zM5.41 20L4 18.59l7.72-7.72 1.47 1.35L5.41 20z\"/>\n",
              "  </svg>\n",
              "      </button>\n",
              "      \n",
              "  <style>\n",
              "    .colab-df-container {\n",
              "      display:flex;\n",
              "      flex-wrap:wrap;\n",
              "      gap: 12px;\n",
              "    }\n",
              "\n",
              "    .colab-df-convert {\n",
              "      background-color: #E8F0FE;\n",
              "      border: none;\n",
              "      border-radius: 50%;\n",
              "      cursor: pointer;\n",
              "      display: none;\n",
              "      fill: #1967D2;\n",
              "      height: 32px;\n",
              "      padding: 0 0 0 0;\n",
              "      width: 32px;\n",
              "    }\n",
              "\n",
              "    .colab-df-convert:hover {\n",
              "      background-color: #E2EBFA;\n",
              "      box-shadow: 0px 1px 2px rgba(60, 64, 67, 0.3), 0px 1px 3px 1px rgba(60, 64, 67, 0.15);\n",
              "      fill: #174EA6;\n",
              "    }\n",
              "\n",
              "    [theme=dark] .colab-df-convert {\n",
              "      background-color: #3B4455;\n",
              "      fill: #D2E3FC;\n",
              "    }\n",
              "\n",
              "    [theme=dark] .colab-df-convert:hover {\n",
              "      background-color: #434B5C;\n",
              "      box-shadow: 0px 1px 3px 1px rgba(0, 0, 0, 0.15);\n",
              "      filter: drop-shadow(0px 1px 2px rgba(0, 0, 0, 0.3));\n",
              "      fill: #FFFFFF;\n",
              "    }\n",
              "  </style>\n",
              "\n",
              "      <script>\n",
              "        const buttonEl =\n",
              "          document.querySelector('#df-e896f406-4a69-4f61-a831-316b43f07a6c button.colab-df-convert');\n",
              "        buttonEl.style.display =\n",
              "          google.colab.kernel.accessAllowed ? 'block' : 'none';\n",
              "\n",
              "        async function convertToInteractive(key) {\n",
              "          const element = document.querySelector('#df-e896f406-4a69-4f61-a831-316b43f07a6c');\n",
              "          const dataTable =\n",
              "            await google.colab.kernel.invokeFunction('convertToInteractive',\n",
              "                                                     [key], {});\n",
              "          if (!dataTable) return;\n",
              "\n",
              "          const docLinkHtml = 'Like what you see? Visit the ' +\n",
              "            '<a target=\"_blank\" href=https://colab.research.google.com/notebooks/data_table.ipynb>data table notebook</a>'\n",
              "            + ' to learn more about interactive tables.';\n",
              "          element.innerHTML = '';\n",
              "          dataTable['output_type'] = 'display_data';\n",
              "          await google.colab.output.renderOutput(dataTable, element);\n",
              "          const docLink = document.createElement('div');\n",
              "          docLink.innerHTML = docLinkHtml;\n",
              "          element.appendChild(docLink);\n",
              "        }\n",
              "      </script>\n",
              "    </div>\n",
              "  </div>\n",
              "  "
            ]
          },
          "metadata": {},
          "execution_count": 11
        }
      ]
    },
    {
      "cell_type": "code",
      "source": [
        "#Convertire il dataframe pandas 'dati3' in un array numpy\n",
        "array = dati3.values\n",
        "\n",
        "#Scegliere 'Group' come etichetta da predirre\n",
        "target = array[:,0]\n",
        "\n",
        "#Applicazione di una maschera per avere Demented=1 ed i Non-demented=0\n",
        "yd = np.where(target=='Demented',1,0)\n",
        "print('yd: \\n', yd)"
      ],
      "metadata": {
        "colab": {
          "base_uri": "https://localhost:8080/"
        },
        "id": "OQ3gPqP7NTLK",
        "outputId": "de595331-26e7-4793-969b-428061ca43a1"
      },
      "execution_count": null,
      "outputs": [
        {
          "output_type": "stream",
          "name": "stdout",
          "text": [
            "yd: \n",
            " [0 0 1 1 1 0 0 0 0 0 1 1 1 0 0 1 1 1 1 0 0 0 0 0 0 1 1 1 1 0 0 0 0 1 1 1 1\n",
            " 1 1 1 1 0 0 1 1 1 1 0 0 0 0 1 1 0 0 0 0 1 1 1 1 1 0 0 0 0 0 0 0 0 0 0 1 1\n",
            " 1 1 1 1 1 1 1 1 1 1 0 0 1 1 1 1 1 0 0 1 1 0 0 1 1 1 1 1 0 0 0 1 1 0 0 0 0\n",
            " 0 0 0 1 1 0 0 0 0 0 0 0 1 1 1 1 1 0 0 0 0 0 0 1 1 1 1 1 1 1 0 0 0 0 0 0 0\n",
            " 0 0 0 0 0 0 1 1 0 0 0 0 0 1 1 0 0 0 0 0 0 0 0 1 1 1 1 1 1 1 1 0 0 0 0 1 1\n",
            " 1 1 1 1 0 0 0 0 0 1 1 0 0 0 0 0 0 0 0 0 1 1 1 1 0 0 0 0 0 0 1 1 1 1 1 1 1\n",
            " 1 0 0 1 1 1 1 0 0 1 1 1 1 1 1 1 1 1 1 0 0 0 0 1 1 0 0 0 1 1 0 0 0 0 1 1 0\n",
            " 0 0 1 1 1 1 1 0 0 0 0 0 1 1 1 1 1 1 0 0 1 1 0 0 1 1 1 1 1 0 0 0 0 0 0 0 1\n",
            " 1 1 1 1 1 0 0 0 0 0 0 1 1 0 0 0 0 0 0 0 1 1 0 0 1 1 1 1 0 0 0 1 1 1 1 1 1\n",
            " 0 0 0 0 0 1 1 0 0 0 1 1 1 1 1 1 0 0 0 0 0 1 1 1 1 1 1 1 0 0 0 0 1 1 1 1 1\n",
            " 0 0 0]\n"
          ]
        }
      ]
    },
    {
      "cell_type": "markdown",
      "source": [
        "#ULTERIORE ANALISI DATI"
      ],
      "metadata": {
        "id": "34Rr0t18mwPB"
      }
    },
    {
      "cell_type": "code",
      "source": [
        "#Ulteriore analisi rispetto al Sesso e Group in un Pie Plot\n",
        "\n",
        "#Creazione di una matrice con solo le features di Group e M/F\n",
        "array2 = array[:,[0,1]]\n",
        "\n",
        "#La funzione groupby si può applicare solo ad un dataframe, quindi:\n",
        "df = pandas.DataFrame(array2, columns = [\"Group\",\"M/F\"])\n",
        "print(df.groupby([\"Group\",\"M/F\"])[\"Group\"].count())\n",
        "\n",
        "#Considerando sempre M=1 e F=0, si ricava il numero rispettivamente di Demented_F, Demented_M, Nondemented_F, Nondemented_M\n",
        "#e si costruisce il pie plot\n",
        "labels = 'Demented_F','Nondemented_F', 'Demented_M',  'Nondemented_M'\n",
        "sizes = [84, 129, 99, 61]\n",
        "expand = [0, 0.1, 0, 0]\n",
        "\n",
        "fig1, ax1 = plt.subplots()\n",
        "ax1.pie(sizes, labels=labels, explode = expand, autopct='%1.1f%%', shadow=True, startangle=90)\n",
        "ax1.axis('equal')\n",
        "plt.show()\n"
      ],
      "metadata": {
        "colab": {
          "base_uri": "https://localhost:8080/",
          "height": 352
        },
        "id": "PW9AmrJjAOuR",
        "outputId": "e3c99ad9-4c44-48f6-8477-d0dc2ccd4596"
      },
      "execution_count": null,
      "outputs": [
        {
          "output_type": "stream",
          "name": "stdout",
          "text": [
            "Group        M/F\n",
            "Demented     0       84\n",
            "             1       99\n",
            "Nondemented  0      129\n",
            "             1       61\n",
            "Name: Group, dtype: int64\n"
          ]
        },
        {
          "output_type": "display_data",
          "data": {
            "text/plain": [
              "<Figure size 432x288 with 1 Axes>"
            ],
            "image/png": "[encoded data removed]"
          },
          "metadata": {}
        }
      ]
    },
    {
      "cell_type": "markdown",
      "source": [
        "#MATRICE DELLE FEATURES"
      ],
      "metadata": {
        "id": "3QiqZglmGJ6b"
      }
    },
    {
      "cell_type": "code",
      "source": [
        "#Si scelgono le features da fornire in ingresso, in particolare sono: Sesso, Età, condizione socio-economica,\n",
        "#Educazione, MMSE, CDR, eTIV, nWBv, ASF.\n",
        "X = array[:,1:10]\n",
        "print('Tipo di X: ', type(X))\n",
        "print('Dimensioni di X: ', X.shape)\n",
        "print('Matrice delle features X: \\n', X)"
      ],
      "metadata": {
        "colab": {
          "base_uri": "https://localhost:8080/"
        },
        "id": "S6PISoUbm0Ai",
        "outputId": "d4f617d0-521b-46e8-e84d-e135496b16c8"
      },
      "execution_count": null,
      "outputs": [
        {
          "output_type": "stream",
          "name": "stdout",
          "text": [
            "Tipo di X:  <class 'numpy.ndarray'>\n",
            "Dimensioni di X:  (373, 9)\n",
            "Matrice delle features X: \n",
            " [[1 87 14 ... 1987 0.696 0.883]\n",
            " [1 88 14 ... 2004 0.681 0.876]\n",
            " [1 75 12 ... 1678 0.736 1.046]\n",
            " ...\n",
            " [0 61 13 ... 1319 0.801 1.331]\n",
            " [0 63 13 ... 1327 0.796 1.323]\n",
            " [0 65 13 ... 1333 0.801 1.317]]\n"
          ]
        }
      ]
    },
    {
      "cell_type": "markdown",
      "source": [
        "#Costruisco il Training Set e il Test Set per valutare i Demented"
      ],
      "metadata": {
        "id": "KJzvnLv3nwGD"
      }
    },
    {
      "cell_type": "code",
      "source": [
        "#Scegliere la percentuale di valori da nascondere per il Test Set\n",
        "dim_test = 0.25\n",
        "\n",
        "#Tramite la funzione train_test_split del modulo model_selection, si divide la matrice delle features X in training set e testing set\n",
        "#data la percentuale di valori usate come test (dim_test) in maniera randomica (random_state = 7)\n",
        "\n",
        "X_train, X_test, y_train, y_test = model_selection.train_test_split(X,yd,test_size=dim_test,random_state=7)\n",
        "\n",
        "\n",
        "print ('Dimensions of X_train: ', X_train.shape)\n",
        "print ('Head of X_train: \\n', X_train[:10])\n",
        "print ('Dimensions of X_test:  ', X_test.shape)\n",
        "print ('Head of X_test:  \\n', X_test[:10])\n",
        "print ('Dimensions of y_train: ', y_train.shape)\n",
        "print ('Head of y_train: ', y_train[:10])\n",
        "print ('Dimensions of y_test:  ', y_test.shape)\n",
        "print ('Head of y_test:  ', y_test[:30])"
      ],
      "metadata": {
        "colab": {
          "base_uri": "https://localhost:8080/"
        },
        "id": "XT5p8FW2n_he",
        "outputId": "1a270331-e9c0-4168-b70d-47ccf358f3f9"
      },
      "execution_count": null,
      "outputs": [
        {
          "output_type": "stream",
          "name": "stdout",
          "text": [
            "Dimensions of X_train:  (279, 9)\n",
            "Head of X_train: \n",
            " [[0 88 12 4.0 30.0 0.0 1336 0.738 1.313]\n",
            " [0 82 18 2.0 30.0 0.0 1471 0.69 1.193]\n",
            " [0 78 12 0.0 27.0 1.0 1309 0.709 1.341]\n",
            " [0 75 12 3.0 29.0 0.0 1338 0.747 1.312]\n",
            " [0 63 15 2.0 28.0 0.0 1544 0.805 1.136]\n",
            " [1 69 12 2.0 24.0 0.5 1480 0.791 1.186]\n",
            " [0 78 12 3.0 29.0 0.0 1475 0.731 1.19]\n",
            " [1 61 18 1.0 30.0 1.0 1957 0.734 0.897]\n",
            " [0 73 13 4.0 30.0 0.0 1360 0.773 1.291]\n",
            " [0 71 16 3.0 30.0 0.0 1503 0.788 1.168]]\n",
            "Dimensions of X_test:   (94, 9)\n",
            "Head of X_test:  \n",
            " [[1 73 20 2.0 30.0 0.0 1842 0.758 0.953]\n",
            " [0 95 14 2.0 29.0 0.0 1257 0.703 1.396]\n",
            " [0 66 18 2.0 29.0 0.0 1191 0.785 1.474]\n",
            " [1 78 18 2.0 30.0 0.0 1484 0.703 1.183]\n",
            " [1 90 8 4.0 23.0 0.5 1668 0.646 1.052]\n",
            " [1 81 12 3.0 27.0 0.5 1814 0.759 0.968]\n",
            " [0 71 14 2.0 28.0 0.0 1461 0.756 1.202]\n",
            " [0 86 12 3.0 30.0 0.0 1430 0.718 1.227]\n",
            " [0 63 13 2.0 30.0 0.0 1327 0.796 1.323]\n",
            " [0 72 13 2.0 30.0 0.0 1510 0.723 1.162]]\n",
            "Dimensions of y_train:  (279,)\n",
            "Head of y_train:  [0 0 1 0 0 1 1 1 0 0]\n",
            "Dimensions of y_test:   (94,)\n",
            "Head of y_test:   [0 0 0 0 1 0 0 1 0 0 1 0 0 1 1 0 0 1 1 1 1 0 1 1 1 0 1 0 0 1]\n"
          ]
        }
      ]
    },
    {
      "cell_type": "markdown",
      "source": [
        "#CREAZIONE MODELLO"
      ],
      "metadata": {
        "id": "Iaa3ECarTvlM"
      }
    },
    {
      "cell_type": "markdown",
      "source": [
        "Per il modello, veranno valutati due differenti metodi: LogisticRegression e DecisionTree.\n",
        "\n",
        "Si sceglierà quello più performante per effettuare un test su un utente di cui si voglia effettuare una predizione."
      ],
      "metadata": {
        "id": "FOY6-XhWHwsV"
      }
    },
    {
      "cell_type": "markdown",
      "source": [
        "### I METODO: LOGISTIC REGRESSION"
      ],
      "metadata": {
        "id": "xcQHIoiMI0rg"
      }
    },
    {
      "cell_type": "markdown",
      "source": [
        "La regressione lineare individua la retta che meglio separa i valori in ingresso. Si può quindi applicare tale ragionamento per realizzare un classificatore:"
      ],
      "metadata": {
        "id": "oO3vnEDTTdDM"
      }
    },
    {
      "cell_type": "code",
      "source": [
        "#Fase di Learning dal training set\n",
        "model1 = LogisticRegression()\n",
        "model1.fit(X_train,y_train)\n"
      ],
      "metadata": {
        "id": "mEVWwdKMTzxH",
        "colab": {
          "base_uri": "https://localhost:8080/"
        },
        "outputId": "21aaa8c6-07a8-49d9-f65d-f3d544ee945a"
      },
      "execution_count": null,
      "outputs": [
        {
          "output_type": "stream",
          "name": "stderr",
          "text": [
            "/usr/local/lib/python3.7/dist-packages/sklearn/linear_model/_logistic.py:818: ConvergenceWarning: lbfgs failed to converge (status=1):\n",
            "STOP: TOTAL NO. of ITERATIONS REACHED LIMIT.\n",
            "\n",
            "Increase the number of iterations (max_iter) or scale the data as shown in:\n",
            "    https://scikit-learn.org/stable/modules/preprocessing.html\n",
            "Please also refer to the documentation for alternative solver options:\n",
            "    https://scikit-learn.org/stable/modules/linear_model.html#logistic-regression\n",
            "  extra_warning_msg=_LOGISTIC_SOLVER_CONVERGENCE_MSG,\n"
          ]
        },
        {
          "output_type": "execute_result",
          "data": {
            "text/plain": [
              "LogisticRegression()"
            ]
          },
          "metadata": {},
          "execution_count": 16
        }
      ]
    },
    {
      "cell_type": "code",
      "source": [
        "#Fase di Predizione\n",
        "y_pred1 = model1.predict(X_test)\n",
        "\n",
        "#Fase di Valutazione\n",
        "#Generazione matrice di confusione per verificare quanto è affidabile il modello\n",
        "cm1 = confusion_matrix(y_pred1,y_test)\n",
        "print ('Matrice di confusione I metodo')\n",
        "print ('                        Predicted')\n",
        "print ('                   Positive','Negative')\n",
        "print ('Actually Positive (1): ', cm1[1,1], '    ', cm1[1,0])\n",
        "print ('Actually Negative (0): ', cm1[0,1], '    ', cm1[0,0])\n"
      ],
      "metadata": {
        "id": "peeVGlpXT3ON",
        "colab": {
          "base_uri": "https://localhost:8080/"
        },
        "outputId": "c3f48af4-2fa6-48d1-fb3a-681ce522d64f"
      },
      "execution_count": null,
      "outputs": [
        {
          "output_type": "stream",
          "name": "stdout",
          "text": [
            "Matrice di confusione I metodo\n",
            "                        Predicted\n",
            "                   Positive Negative\n",
            "Actually Positive (1):  47      1\n",
            "Actually Negative (0):  4      42\n"
          ]
        }
      ]
    },
    {
      "cell_type": "code",
      "source": [
        "#Accuracy con il I metodo del modello\n",
        "print('Accuracy: ', accuracy_score(y_pred1,y_test))"
      ],
      "metadata": {
        "id": "7A5NWsZAT5I6",
        "colab": {
          "base_uri": "https://localhost:8080/"
        },
        "outputId": "caa6dc98-9694-4003-8183-7c7c1d09fcce"
      },
      "execution_count": null,
      "outputs": [
        {
          "output_type": "stream",
          "name": "stdout",
          "text": [
            "Accuracy:  0.9468085106382979\n"
          ]
        }
      ]
    },
    {
      "cell_type": "markdown",
      "source": [
        "E' possibile mostrare il meccanismo della regressione lineare su un grafico 2D limitandosi a 2 sole variabili categoriali. Si prendano ad esempio Età e Sesso"
      ],
      "metadata": {
        "id": "Gj8aHg9JglMu"
      }
    },
    {
      "cell_type": "code",
      "source": [
        "X2D = array[:,2:4]\n",
        "X_train2D, X_test2D, y_train2D, y_test2D = model_selection.train_test_split(X2D,yd,test_size=0.25,random_state=7)\n",
        "# i valori devono essere standardizzati poichè X_trin2D è visto come un oggetto, mentre le regioni decisionali richiedono un array float o int\n",
        "\n",
        "sc = StandardScaler()\n",
        "sc.fit(X_train2D)\n",
        "X_std = sc.transform(X2D)\n",
        "X_trainV2 = sc.transform(X_train2D)\n",
        "X_test_std = sc.transform(X_test2D)\n",
        "\n",
        "model2D = LogisticRegression()\n",
        "model2D.fit(X_trainV2, y_train2D)\n",
        "plot_decision_regions(X_trainV2, y_train2D, clf=model2D, legend=2)\n",
        "plt.xlabel('Età [Standardizzata]')\n",
        "plt.ylabel('Sesso [Standardizzata]')\n",
        "plt.legend(loc='upper left')\n",
        "plt.show()\n",
        "#(Demented=1, Non-demented=0)"
      ],
      "metadata": {
        "colab": {
          "base_uri": "https://localhost:8080/",
          "height": 335
        },
        "id": "z-_xFLLuglci",
        "outputId": "a846ef9f-9ba7-4100-8d9f-c6918ebb9f7f"
      },
      "execution_count": null,
      "outputs": [
        {
          "output_type": "stream",
          "name": "stderr",
          "text": [
            "/usr/local/lib/python3.7/dist-packages/mlxtend/plotting/decision_regions.py:244: MatplotlibDeprecationWarning: Passing unsupported keyword arguments to axis() will raise a TypeError in 3.3.\n",
            "  ax.axis(xmin=xx.min(), xmax=xx.max(), y_min=yy.min(), y_max=yy.max())\n"
          ]
        },
        {
          "output_type": "display_data",
          "data": {
            "text/plain": [
              "<Figure size 432x288 with 1 Axes>"
            ],
            "image/png": "[encoded data removed]"
          },
          "metadata": {
            "needs_background": "light"
          }
        }
      ]
    },
    {
      "cell_type": "markdown",
      "source": [
        "Quelle mappate sono le regioni di classificazione, tuttavia è possibile osservare come, con le sole due features scelte come esempio, il comparatore non lavora molto bene."
      ],
      "metadata": {
        "id": "6XH_b7_0lH6e"
      }
    },
    {
      "cell_type": "code",
      "source": [
        "y_pred2D = model2D.predict(X_test2D)\n",
        "print('Accuracy: ', accuracy_score(y_pred2D,y_test2D))"
      ],
      "metadata": {
        "colab": {
          "base_uri": "https://localhost:8080/"
        },
        "id": "IjZOtrSXljfO",
        "outputId": "50521f7c-721b-4f7a-faba-983b9ef0b823"
      },
      "execution_count": null,
      "outputs": [
        {
          "output_type": "stream",
          "name": "stdout",
          "text": [
            "Accuracy:  0.4574468085106383\n"
          ]
        }
      ]
    },
    {
      "cell_type": "markdown",
      "source": [
        "### II METODO: DECISION TREE"
      ],
      "metadata": {
        "id": "drm3npRYJB9_"
      }
    },
    {
      "cell_type": "code",
      "source": [
        "model2 = DecisionTreeClassifier(criterion='entropy')\n",
        "model2.fit(X_train,y_train)\n",
        "y_pred2 = model2.predict(X_test)\n",
        "cm2 = confusion_matrix(y_pred2,y_test)\n",
        "print ('Matrice di confusione II metodo')\n",
        "print ('                        Predicted')\n",
        "print ('                   Positive','Negative')\n",
        "print ('Actually Positive (1): ', cm2[1,1], '    ', cm2[1,0])\n",
        "print ('Actually Negative (0): ', cm2[0,1], '    ', cm2[0,0])\n",
        "print('Accuracy: ', accuracy_score(y_pred2,y_test))"
      ],
      "metadata": {
        "colab": {
          "base_uri": "https://localhost:8080/"
        },
        "id": "VGSgm8zKuTGX",
        "outputId": "21eef1a1-17f6-4971-f9f0-72d50c357a42"
      },
      "execution_count": null,
      "outputs": [
        {
          "output_type": "stream",
          "name": "stdout",
          "text": [
            "Matrice di confusione II metodo\n",
            "                        Predicted\n",
            "                   Positive Negative\n",
            "Actually Positive (1):  48      4\n",
            "Actually Negative (0):  3      39\n",
            "Accuracy:  0.925531914893617\n"
          ]
        }
      ]
    },
    {
      "cell_type": "code",
      "source": [
        "#il codice sottostante è stato ricavato da \"https://www.kaggle.com/code/esignor/decision-tree/notebook\" e adattato alle\n",
        "#specifiche del nostro problema\n",
        "def DT_attribute(decision_tree):\n",
        "    data_DT = tree.export_graphviz(decision_tree, out_file=None,\n",
        "    feature_names=['M/F',\t'Age',\t'EDUC',\t'SES',\t'MMSE',\t'CDR',\t'eTIV',\t'nWBV',\t'ASF'], # nome delle caratteristiche\n",
        "    class_names=['Demented', 'Non-Demented'], # nome delle classi target\n",
        "    filled=True, # dipinge i nodi per indicare la classe di maggioranza per la classificazione\n",
        "    rounded=True, # fa i riquadri dei nodi con angoli arrotondati\n",
        "    special_characters=True) # i caratteri speciali sono per compatibilità PostScript\n",
        "    graph_DT = graphviz.Source(data_DT)\n",
        "    return graph_DT # stampa del DT\n"
      ],
      "metadata": {
        "id": "DsVqgQ5IVLg8"
      },
      "execution_count": null,
      "outputs": []
    },
    {
      "cell_type": "code",
      "source": [
        "DT_attribute(model2)"
      ],
      "metadata": {
        "colab": {
          "base_uri": "https://localhost:8080/",
          "height": 1000
        },
        "id": "h4SZPO4DWC3M",
        "outputId": "c6a2268f-9fc9-435d-8493-5b1c40e3393d"
      },
      "execution_count": null,
      "outputs": [
        {
          "output_type": "execute_result",
          "data": {
            "text/plain": [
              "<graphviz.files.Source at 0x7fe875037350>"
            ],
            "image/svg+xml": "<?xml version=\"1.0\" encoding=\"UTF-8\" standalone=\"no\"?>\n<!DOCTYPE svg PUBLIC \"-//W3C//DTD SVG 1.1//EN\"\n \"http://www.w3.org/Graphics/SVG/1.1/DTD/svg11.dtd\">\n<!-- Generated by graphviz version 2.40.1 (20161225.0304)\n -->\n<!-- Title: Tree Pages: 1 -->\n<svg width=\"1712pt\" height=\"1385pt\"\n viewBox=\"0.00 0.00 1712.00 1385.00\" xmlns=\"http://www.w3.org/2000/svg\" xmlns:xlink=\"http://www.w3.org/1999/xlink\">\n<g id=\"graph0\" class=\"graph\" transform=\"scale(1 1) rotate(0) translate(4 1381)\">\n<title>Tree</title>\n<polygon fill=\"#ffffff\" stroke=\"transparent\" points=\"-4,4 -4,-1381 1708,-1381 1708,4 -4,4\"/>\n<!-- 0 -->\n<g id=\"node1\" class=\"node\">\n<title>0</title>\n<path fill=\"#fcf2eb\" stroke=\"#000000\" d=\"M967.5,-1377C967.5,-1377 857.5,-1377 857.5,-1377 851.5,-1377 845.5,-1371 845.5,-1365 845.5,-1365 845.5,-1306 845.5,-1306 845.5,-1300 851.5,-1294 857.5,-1294 857.5,-1294 967.5,-1294 967.5,-1294 973.5,-1294 979.5,-1300 979.5,-1306 979.5,-1306 979.5,-1365 979.5,-1365 979.5,-1371 973.5,-1377 967.5,-1377\"/>\n<text text-anchor=\"start\" x=\"874.5\" y=\"-1361.8\" font-family=\"Helvetica,sans-Serif\" font-size=\"14.00\" fill=\"#000000\">CDR ≤ 0.25</text>\n<text text-anchor=\"start\" x=\"861.5\" y=\"-1346.8\" font-family=\"Helvetica,sans-Serif\" font-size=\"14.00\" fill=\"#000000\">entropy = 0.998</text>\n<text text-anchor=\"start\" x=\"864.5\" y=\"-1331.8\" font-family=\"Helvetica,sans-Serif\" font-size=\"14.00\" fill=\"#000000\">samples = 279</text>\n<text text-anchor=\"start\" x=\"854.5\" y=\"-1316.8\" font-family=\"Helvetica,sans-Serif\" font-size=\"14.00\" fill=\"#000000\">value = [147, 132]</text>\n<text text-anchor=\"start\" x=\"853.5\" y=\"-1301.8\" font-family=\"Helvetica,sans-Serif\" font-size=\"14.00\" fill=\"#000000\">class = Demented</text>\n</g>\n<!-- 1 -->\n<g id=\"node2\" class=\"node\">\n<title>1</title>\n<path fill=\"#e78d4c\" stroke=\"#000000\" d=\"M883.5,-1258C883.5,-1258 773.5,-1258 773.5,-1258 767.5,-1258 761.5,-1252 761.5,-1246 761.5,-1246 761.5,-1187 761.5,-1187 761.5,-1181 767.5,-1175 773.5,-1175 773.5,-1175 883.5,-1175 883.5,-1175 889.5,-1175 895.5,-1181 895.5,-1187 895.5,-1187 895.5,-1246 895.5,-1246 895.5,-1252 889.5,-1258 883.5,-1258\"/>\n<text text-anchor=\"start\" x=\"784.5\" y=\"-1242.8\" font-family=\"Helvetica,sans-Serif\" font-size=\"14.00\" fill=\"#000000\">MMSE ≤ 26.0</text>\n<text text-anchor=\"start\" x=\"777.5\" y=\"-1227.8\" font-family=\"Helvetica,sans-Serif\" font-size=\"14.00\" fill=\"#000000\">entropy = 0.428</text>\n<text text-anchor=\"start\" x=\"780.5\" y=\"-1212.8\" font-family=\"Helvetica,sans-Serif\" font-size=\"14.00\" fill=\"#000000\">samples = 160</text>\n<text text-anchor=\"start\" x=\"774.5\" y=\"-1197.8\" font-family=\"Helvetica,sans-Serif\" font-size=\"14.00\" fill=\"#000000\">value = [146, 14]</text>\n<text text-anchor=\"start\" x=\"769.5\" y=\"-1182.8\" font-family=\"Helvetica,sans-Serif\" font-size=\"14.00\" fill=\"#000000\">class = Demented</text>\n</g>\n<!-- 0&#45;&gt;1 -->\n<g id=\"edge1\" class=\"edge\">\n<title>0&#45;&gt;1</title>\n<path fill=\"none\" stroke=\"#000000\" d=\"M883.1209,-1293.8796C876.8906,-1285.0534 870.2519,-1275.6485 863.827,-1266.5466\"/>\n<polygon fill=\"#000000\" stroke=\"#000000\" points=\"866.6308,-1264.4494 858.0045,-1258.2981 860.912,-1268.4862 866.6308,-1264.4494\"/>\n<text text-anchor=\"middle\" x=\"853.7568\" y=\"-1279.2346\" font-family=\"Helvetica,sans-Serif\" font-size=\"14.00\" fill=\"#000000\">True</text>\n</g>\n<!-- 44 -->\n<g id=\"node45\" class=\"node\">\n<title>44</title>\n<path fill=\"#3b9ee5\" stroke=\"#000000\" d=\"M1067,-1258C1067,-1258 926,-1258 926,-1258 920,-1258 914,-1252 914,-1246 914,-1246 914,-1187 914,-1187 914,-1181 920,-1175 926,-1175 926,-1175 1067,-1175 1067,-1175 1073,-1175 1079,-1181 1079,-1187 1079,-1187 1079,-1246 1079,-1246 1079,-1252 1073,-1258 1067,-1258\"/>\n<text text-anchor=\"start\" x=\"956\" y=\"-1242.8\" font-family=\"Helvetica,sans-Serif\" font-size=\"14.00\" fill=\"#000000\">ASF ≤ 1.033</text>\n<text text-anchor=\"start\" x=\"949.5\" y=\"-1227.8\" font-family=\"Helvetica,sans-Serif\" font-size=\"14.00\" fill=\"#000000\">entropy = 0.07</text>\n<text text-anchor=\"start\" x=\"948.5\" y=\"-1212.8\" font-family=\"Helvetica,sans-Serif\" font-size=\"14.00\" fill=\"#000000\">samples = 119</text>\n<text text-anchor=\"start\" x=\"946.5\" y=\"-1197.8\" font-family=\"Helvetica,sans-Serif\" font-size=\"14.00\" fill=\"#000000\">value = [1, 118]</text>\n<text text-anchor=\"start\" x=\"922\" y=\"-1182.8\" font-family=\"Helvetica,sans-Serif\" font-size=\"14.00\" fill=\"#000000\">class = Non&#45;Demented</text>\n</g>\n<!-- 0&#45;&gt;44 -->\n<g id=\"edge44\" class=\"edge\">\n<title>0&#45;&gt;44</title>\n<path fill=\"none\" stroke=\"#000000\" d=\"M941.8791,-1293.8796C948.1094,-1285.0534 954.7481,-1275.6485 961.173,-1266.5466\"/>\n<polygon fill=\"#000000\" stroke=\"#000000\" points=\"964.088,-1268.4862 966.9955,-1258.2981 958.3692,-1264.4494 964.088,-1268.4862\"/>\n<text text-anchor=\"middle\" x=\"971.2432\" y=\"-1279.2346\" font-family=\"Helvetica,sans-Serif\" font-size=\"14.00\" fill=\"#000000\">False</text>\n</g>\n<!-- 2 -->\n<g id=\"node3\" class=\"node\">\n<title>2</title>\n<path fill=\"#399de5\" stroke=\"#000000\" d=\"M731,-1131.5C731,-1131.5 590,-1131.5 590,-1131.5 584,-1131.5 578,-1125.5 578,-1119.5 578,-1119.5 578,-1075.5 578,-1075.5 578,-1069.5 584,-1063.5 590,-1063.5 590,-1063.5 731,-1063.5 731,-1063.5 737,-1063.5 743,-1069.5 743,-1075.5 743,-1075.5 743,-1119.5 743,-1119.5 743,-1125.5 737,-1131.5 731,-1131.5\"/>\n<text text-anchor=\"start\" x=\"618\" y=\"-1116.3\" font-family=\"Helvetica,sans-Serif\" font-size=\"14.00\" fill=\"#000000\">entropy = 0.0</text>\n<text text-anchor=\"start\" x=\"621\" y=\"-1101.3\" font-family=\"Helvetica,sans-Serif\" font-size=\"14.00\" fill=\"#000000\">samples = 1</text>\n<text text-anchor=\"start\" x=\"619\" y=\"-1086.3\" font-family=\"Helvetica,sans-Serif\" font-size=\"14.00\" fill=\"#000000\">value = [0, 1]</text>\n<text text-anchor=\"start\" x=\"586\" y=\"-1071.3\" font-family=\"Helvetica,sans-Serif\" font-size=\"14.00\" fill=\"#000000\">class = Non&#45;Demented</text>\n</g>\n<!-- 1&#45;&gt;2 -->\n<g id=\"edge2\" class=\"edge\">\n<title>1&#45;&gt;2</title>\n<path fill=\"none\" stroke=\"#000000\" d=\"M769.7418,-1174.8796C752.5842,-1162.7263 733.8777,-1149.4759 716.8714,-1137.4297\"/>\n<polygon fill=\"#000000\" stroke=\"#000000\" points=\"718.857,-1134.5472 708.6737,-1131.623 714.8109,-1140.2593 718.857,-1134.5472\"/>\n</g>\n<!-- 3 -->\n<g id=\"node4\" class=\"node\">\n<title>3</title>\n<path fill=\"#e78c4b\" stroke=\"#000000\" d=\"M883.5,-1139C883.5,-1139 773.5,-1139 773.5,-1139 767.5,-1139 761.5,-1133 761.5,-1127 761.5,-1127 761.5,-1068 761.5,-1068 761.5,-1062 767.5,-1056 773.5,-1056 773.5,-1056 883.5,-1056 883.5,-1056 889.5,-1056 895.5,-1062 895.5,-1068 895.5,-1068 895.5,-1127 895.5,-1127 895.5,-1133 889.5,-1139 883.5,-1139\"/>\n<text text-anchor=\"start\" x=\"796\" y=\"-1123.8\" font-family=\"Helvetica,sans-Serif\" font-size=\"14.00\" fill=\"#000000\">SES ≤ 1.5</text>\n<text text-anchor=\"start\" x=\"777.5\" y=\"-1108.8\" font-family=\"Helvetica,sans-Serif\" font-size=\"14.00\" fill=\"#000000\">entropy = 0.408</text>\n<text text-anchor=\"start\" x=\"780.5\" y=\"-1093.8\" font-family=\"Helvetica,sans-Serif\" font-size=\"14.00\" fill=\"#000000\">samples = 159</text>\n<text text-anchor=\"start\" x=\"774.5\" y=\"-1078.8\" font-family=\"Helvetica,sans-Serif\" font-size=\"14.00\" fill=\"#000000\">value = [146, 13]</text>\n<text text-anchor=\"start\" x=\"769.5\" y=\"-1063.8\" font-family=\"Helvetica,sans-Serif\" font-size=\"14.00\" fill=\"#000000\">class = Demented</text>\n</g>\n<!-- 1&#45;&gt;3 -->\n<g id=\"edge3\" class=\"edge\">\n<title>1&#45;&gt;3</title>\n<path fill=\"none\" stroke=\"#000000\" d=\"M828.5,-1174.8796C828.5,-1166.6838 828.5,-1157.9891 828.5,-1149.5013\"/>\n<polygon fill=\"#000000\" stroke=\"#000000\" points=\"832.0001,-1149.298 828.5,-1139.2981 825.0001,-1149.2981 832.0001,-1149.298\"/>\n</g>\n<!-- 4 -->\n<g id=\"node5\" class=\"node\">\n<title>4</title>\n<path fill=\"#eb9c63\" stroke=\"#000000\" d=\"M735.5,-1020C735.5,-1020 625.5,-1020 625.5,-1020 619.5,-1020 613.5,-1014 613.5,-1008 613.5,-1008 613.5,-949 613.5,-949 613.5,-943 619.5,-937 625.5,-937 625.5,-937 735.5,-937 735.5,-937 741.5,-937 747.5,-943 747.5,-949 747.5,-949 747.5,-1008 747.5,-1008 747.5,-1014 741.5,-1020 735.5,-1020\"/>\n<text text-anchor=\"start\" x=\"638\" y=\"-1004.8\" font-family=\"Helvetica,sans-Serif\" font-size=\"14.00\" fill=\"#000000\">EDUC ≤ 15.0</text>\n<text text-anchor=\"start\" x=\"629.5\" y=\"-989.8\" font-family=\"Helvetica,sans-Serif\" font-size=\"14.00\" fill=\"#000000\">entropy = 0.669</text>\n<text text-anchor=\"start\" x=\"636.5\" y=\"-974.8\" font-family=\"Helvetica,sans-Serif\" font-size=\"14.00\" fill=\"#000000\">samples = 40</text>\n<text text-anchor=\"start\" x=\"635\" y=\"-959.8\" font-family=\"Helvetica,sans-Serif\" font-size=\"14.00\" fill=\"#000000\">value = [33, 7]</text>\n<text text-anchor=\"start\" x=\"621.5\" y=\"-944.8\" font-family=\"Helvetica,sans-Serif\" font-size=\"14.00\" fill=\"#000000\">class = Demented</text>\n</g>\n<!-- 3&#45;&gt;4 -->\n<g id=\"edge4\" class=\"edge\">\n<title>3&#45;&gt;4</title>\n<path fill=\"none\" stroke=\"#000000\" d=\"M776.7368,-1055.8796C764.9072,-1046.368 752.2419,-1036.1843 740.1129,-1026.432\"/>\n<polygon fill=\"#000000\" stroke=\"#000000\" points=\"742.2204,-1023.6355 732.234,-1020.0969 737.8341,-1029.0908 742.2204,-1023.6355\"/>\n</g>\n<!-- 25 -->\n<g id=\"node26\" class=\"node\">\n<title>25</title>\n<path fill=\"#e68844\" stroke=\"#000000\" d=\"M887.5,-1020C887.5,-1020 777.5,-1020 777.5,-1020 771.5,-1020 765.5,-1014 765.5,-1008 765.5,-1008 765.5,-949 765.5,-949 765.5,-943 771.5,-937 777.5,-937 777.5,-937 887.5,-937 887.5,-937 893.5,-937 899.5,-943 899.5,-949 899.5,-949 899.5,-1008 899.5,-1008 899.5,-1014 893.5,-1020 887.5,-1020\"/>\n<text text-anchor=\"start\" x=\"792\" y=\"-1004.8\" font-family=\"Helvetica,sans-Serif\" font-size=\"14.00\" fill=\"#000000\">ASF ≤ 1.164</text>\n<text text-anchor=\"start\" x=\"781.5\" y=\"-989.8\" font-family=\"Helvetica,sans-Serif\" font-size=\"14.00\" fill=\"#000000\">entropy = 0.288</text>\n<text text-anchor=\"start\" x=\"784.5\" y=\"-974.8\" font-family=\"Helvetica,sans-Serif\" font-size=\"14.00\" fill=\"#000000\">samples = 119</text>\n<text text-anchor=\"start\" x=\"782.5\" y=\"-959.8\" font-family=\"Helvetica,sans-Serif\" font-size=\"14.00\" fill=\"#000000\">value = [113, 6]</text>\n<text text-anchor=\"start\" x=\"773.5\" y=\"-944.8\" font-family=\"Helvetica,sans-Serif\" font-size=\"14.00\" fill=\"#000000\">class = Demented</text>\n</g>\n<!-- 3&#45;&gt;25 -->\n<g id=\"edge25\" class=\"edge\">\n<title>3&#45;&gt;25</title>\n<path fill=\"none\" stroke=\"#000000\" d=\"M829.899,-1055.8796C830.1745,-1047.6838 830.4668,-1038.9891 830.7521,-1030.5013\"/>\n<polygon fill=\"#000000\" stroke=\"#000000\" points=\"834.257,-1030.41 831.095,-1020.2981 827.261,-1030.1748 834.257,-1030.41\"/>\n</g>\n<!-- 5 -->\n<g id=\"node6\" class=\"node\">\n<title>5</title>\n<path fill=\"#399de5\" stroke=\"#000000\" d=\"M583,-893.5C583,-893.5 442,-893.5 442,-893.5 436,-893.5 430,-887.5 430,-881.5 430,-881.5 430,-837.5 430,-837.5 430,-831.5 436,-825.5 442,-825.5 442,-825.5 583,-825.5 583,-825.5 589,-825.5 595,-831.5 595,-837.5 595,-837.5 595,-881.5 595,-881.5 595,-887.5 589,-893.5 583,-893.5\"/>\n<text text-anchor=\"start\" x=\"470\" y=\"-878.3\" font-family=\"Helvetica,sans-Serif\" font-size=\"14.00\" fill=\"#000000\">entropy = 0.0</text>\n<text text-anchor=\"start\" x=\"473\" y=\"-863.3\" font-family=\"Helvetica,sans-Serif\" font-size=\"14.00\" fill=\"#000000\">samples = 2</text>\n<text text-anchor=\"start\" x=\"471\" y=\"-848.3\" font-family=\"Helvetica,sans-Serif\" font-size=\"14.00\" fill=\"#000000\">value = [0, 2]</text>\n<text text-anchor=\"start\" x=\"438\" y=\"-833.3\" font-family=\"Helvetica,sans-Serif\" font-size=\"14.00\" fill=\"#000000\">class = Non&#45;Demented</text>\n</g>\n<!-- 4&#45;&gt;5 -->\n<g id=\"edge5\" class=\"edge\">\n<title>4&#45;&gt;5</title>\n<path fill=\"none\" stroke=\"#000000\" d=\"M621.7418,-936.8796C604.5842,-924.7263 585.8777,-911.4759 568.8714,-899.4297\"/>\n<polygon fill=\"#000000\" stroke=\"#000000\" points=\"570.857,-896.5472 560.6737,-893.623 566.8109,-902.2593 570.857,-896.5472\"/>\n</g>\n<!-- 6 -->\n<g id=\"node7\" class=\"node\">\n<title>6</title>\n<path fill=\"#e99457\" stroke=\"#000000\" d=\"M735.5,-901C735.5,-901 625.5,-901 625.5,-901 619.5,-901 613.5,-895 613.5,-889 613.5,-889 613.5,-830 613.5,-830 613.5,-824 619.5,-818 625.5,-818 625.5,-818 735.5,-818 735.5,-818 741.5,-818 747.5,-824 747.5,-830 747.5,-830 747.5,-889 747.5,-889 747.5,-895 741.5,-901 735.5,-901\"/>\n<text text-anchor=\"start\" x=\"645.5\" y=\"-885.8\" font-family=\"Helvetica,sans-Serif\" font-size=\"14.00\" fill=\"#000000\">Age ≤ 80.5</text>\n<text text-anchor=\"start\" x=\"629.5\" y=\"-870.8\" font-family=\"Helvetica,sans-Serif\" font-size=\"14.00\" fill=\"#000000\">entropy = 0.562</text>\n<text text-anchor=\"start\" x=\"636.5\" y=\"-855.8\" font-family=\"Helvetica,sans-Serif\" font-size=\"14.00\" fill=\"#000000\">samples = 38</text>\n<text text-anchor=\"start\" x=\"635\" y=\"-840.8\" font-family=\"Helvetica,sans-Serif\" font-size=\"14.00\" fill=\"#000000\">value = [33, 5]</text>\n<text text-anchor=\"start\" x=\"621.5\" y=\"-825.8\" font-family=\"Helvetica,sans-Serif\" font-size=\"14.00\" fill=\"#000000\">class = Demented</text>\n</g>\n<!-- 4&#45;&gt;6 -->\n<g id=\"edge6\" class=\"edge\">\n<title>4&#45;&gt;6</title>\n<path fill=\"none\" stroke=\"#000000\" d=\"M680.5,-936.8796C680.5,-928.6838 680.5,-919.9891 680.5,-911.5013\"/>\n<polygon fill=\"#000000\" stroke=\"#000000\" points=\"684.0001,-911.298 680.5,-901.2981 677.0001,-911.2981 684.0001,-911.298\"/>\n</g>\n<!-- 7 -->\n<g id=\"node8\" class=\"node\">\n<title>7</title>\n<path fill=\"#eb9f68\" stroke=\"#000000\" d=\"M600.5,-782C600.5,-782 490.5,-782 490.5,-782 484.5,-782 478.5,-776 478.5,-770 478.5,-770 478.5,-711 478.5,-711 478.5,-705 484.5,-699 490.5,-699 490.5,-699 600.5,-699 600.5,-699 606.5,-699 612.5,-705 612.5,-711 612.5,-711 612.5,-770 612.5,-770 612.5,-776 606.5,-782 600.5,-782\"/>\n<text text-anchor=\"start\" x=\"503\" y=\"-766.8\" font-family=\"Helvetica,sans-Serif\" font-size=\"14.00\" fill=\"#000000\">EDUC ≤ 19.0</text>\n<text text-anchor=\"start\" x=\"494.5\" y=\"-751.8\" font-family=\"Helvetica,sans-Serif\" font-size=\"14.00\" fill=\"#000000\">entropy = 0.706</text>\n<text text-anchor=\"start\" x=\"501.5\" y=\"-736.8\" font-family=\"Helvetica,sans-Serif\" font-size=\"14.00\" fill=\"#000000\">samples = 26</text>\n<text text-anchor=\"start\" x=\"500\" y=\"-721.8\" font-family=\"Helvetica,sans-Serif\" font-size=\"14.00\" fill=\"#000000\">value = [21, 5]</text>\n<text text-anchor=\"start\" x=\"486.5\" y=\"-706.8\" font-family=\"Helvetica,sans-Serif\" font-size=\"14.00\" fill=\"#000000\">class = Demented</text>\n</g>\n<!-- 6&#45;&gt;7 -->\n<g id=\"edge7\" class=\"edge\">\n<title>6&#45;&gt;7</title>\n<path fill=\"none\" stroke=\"#000000\" d=\"M633.2836,-817.8796C622.7598,-808.6031 611.5109,-798.6874 600.6979,-789.1559\"/>\n<polygon fill=\"#000000\" stroke=\"#000000\" points=\"602.734,-786.2851 592.918,-782.2981 598.1052,-791.5362 602.734,-786.2851\"/>\n</g>\n<!-- 24 -->\n<g id=\"node25\" class=\"node\">\n<title>24</title>\n<path fill=\"#e58139\" stroke=\"#000000\" d=\"M752.5,-774.5C752.5,-774.5 642.5,-774.5 642.5,-774.5 636.5,-774.5 630.5,-768.5 630.5,-762.5 630.5,-762.5 630.5,-718.5 630.5,-718.5 630.5,-712.5 636.5,-706.5 642.5,-706.5 642.5,-706.5 752.5,-706.5 752.5,-706.5 758.5,-706.5 764.5,-712.5 764.5,-718.5 764.5,-718.5 764.5,-762.5 764.5,-762.5 764.5,-768.5 758.5,-774.5 752.5,-774.5\"/>\n<text text-anchor=\"start\" x=\"655\" y=\"-759.3\" font-family=\"Helvetica,sans-Serif\" font-size=\"14.00\" fill=\"#000000\">entropy = 0.0</text>\n<text text-anchor=\"start\" x=\"653.5\" y=\"-744.3\" font-family=\"Helvetica,sans-Serif\" font-size=\"14.00\" fill=\"#000000\">samples = 12</text>\n<text text-anchor=\"start\" x=\"652\" y=\"-729.3\" font-family=\"Helvetica,sans-Serif\" font-size=\"14.00\" fill=\"#000000\">value = [12, 0]</text>\n<text text-anchor=\"start\" x=\"638.5\" y=\"-714.3\" font-family=\"Helvetica,sans-Serif\" font-size=\"14.00\" fill=\"#000000\">class = Demented</text>\n</g>\n<!-- 6&#45;&gt;24 -->\n<g id=\"edge24\" class=\"edge\">\n<title>6&#45;&gt;24</title>\n<path fill=\"none\" stroke=\"#000000\" d=\"M686.4458,-817.8796C687.9695,-807.2134 689.614,-795.7021 691.1569,-784.9015\"/>\n<polygon fill=\"#000000\" stroke=\"#000000\" points=\"694.6484,-785.2094 692.5979,-774.8149 687.7187,-784.2194 694.6484,-785.2094\"/>\n</g>\n<!-- 8 -->\n<g id=\"node9\" class=\"node\">\n<title>8</title>\n<path fill=\"#ea995f\" stroke=\"#000000\" d=\"M449.5,-663C449.5,-663 339.5,-663 339.5,-663 333.5,-663 327.5,-657 327.5,-651 327.5,-651 327.5,-592 327.5,-592 327.5,-586 333.5,-580 339.5,-580 339.5,-580 449.5,-580 449.5,-580 455.5,-580 461.5,-586 461.5,-592 461.5,-592 461.5,-651 461.5,-651 461.5,-657 455.5,-663 449.5,-663\"/>\n<text text-anchor=\"start\" x=\"352\" y=\"-647.8\" font-family=\"Helvetica,sans-Serif\" font-size=\"14.00\" fill=\"#000000\">EDUC ≤ 16.5</text>\n<text text-anchor=\"start\" x=\"343.5\" y=\"-632.8\" font-family=\"Helvetica,sans-Serif\" font-size=\"14.00\" fill=\"#000000\">entropy = 0.634</text>\n<text text-anchor=\"start\" x=\"350.5\" y=\"-617.8\" font-family=\"Helvetica,sans-Serif\" font-size=\"14.00\" fill=\"#000000\">samples = 25</text>\n<text text-anchor=\"start\" x=\"349\" y=\"-602.8\" font-family=\"Helvetica,sans-Serif\" font-size=\"14.00\" fill=\"#000000\">value = [21, 4]</text>\n<text text-anchor=\"start\" x=\"335.5\" y=\"-587.8\" font-family=\"Helvetica,sans-Serif\" font-size=\"14.00\" fill=\"#000000\">class = Demented</text>\n</g>\n<!-- 7&#45;&gt;8 -->\n<g id=\"edge8\" class=\"edge\">\n<title>7&#45;&gt;8</title>\n<path fill=\"none\" stroke=\"#000000\" d=\"M492.6875,-698.8796C480.6182,-689.368 467.6961,-679.1843 455.3212,-669.432\"/>\n<polygon fill=\"#000000\" stroke=\"#000000\" points=\"457.3032,-666.5377 447.2827,-663.0969 452.9704,-672.0356 457.3032,-666.5377\"/>\n</g>\n<!-- 23 -->\n<g id=\"node24\" class=\"node\">\n<title>23</title>\n<path fill=\"#399de5\" stroke=\"#000000\" d=\"M633,-655.5C633,-655.5 492,-655.5 492,-655.5 486,-655.5 480,-649.5 480,-643.5 480,-643.5 480,-599.5 480,-599.5 480,-593.5 486,-587.5 492,-587.5 492,-587.5 633,-587.5 633,-587.5 639,-587.5 645,-593.5 645,-599.5 645,-599.5 645,-643.5 645,-643.5 645,-649.5 639,-655.5 633,-655.5\"/>\n<text text-anchor=\"start\" x=\"520\" y=\"-640.3\" font-family=\"Helvetica,sans-Serif\" font-size=\"14.00\" fill=\"#000000\">entropy = 0.0</text>\n<text text-anchor=\"start\" x=\"523\" y=\"-625.3\" font-family=\"Helvetica,sans-Serif\" font-size=\"14.00\" fill=\"#000000\">samples = 1</text>\n<text text-anchor=\"start\" x=\"521\" y=\"-610.3\" font-family=\"Helvetica,sans-Serif\" font-size=\"14.00\" fill=\"#000000\">value = [0, 1]</text>\n<text text-anchor=\"start\" x=\"488\" y=\"-595.3\" font-family=\"Helvetica,sans-Serif\" font-size=\"14.00\" fill=\"#000000\">class = Non&#45;Demented</text>\n</g>\n<!-- 7&#45;&gt;23 -->\n<g id=\"edge23\" class=\"edge\">\n<title>7&#45;&gt;23</title>\n<path fill=\"none\" stroke=\"#000000\" d=\"M551.4458,-698.8796C552.9695,-688.2134 554.614,-676.7021 556.1569,-665.9015\"/>\n<polygon fill=\"#000000\" stroke=\"#000000\" points=\"559.6484,-666.2094 557.5979,-655.8149 552.7187,-665.2194 559.6484,-666.2094\"/>\n</g>\n<!-- 9 -->\n<g id=\"node10\" class=\"node\">\n<title>9</title>\n<path fill=\"#f2c09c\" stroke=\"#000000\" d=\"M373.5,-544C373.5,-544 263.5,-544 263.5,-544 257.5,-544 251.5,-538 251.5,-532 251.5,-532 251.5,-473 251.5,-473 251.5,-467 257.5,-461 263.5,-461 263.5,-461 373.5,-461 373.5,-461 379.5,-461 385.5,-467 385.5,-473 385.5,-473 385.5,-532 385.5,-532 385.5,-538 379.5,-544 373.5,-544\"/>\n<text text-anchor=\"start\" x=\"283.5\" y=\"-528.8\" font-family=\"Helvetica,sans-Serif\" font-size=\"14.00\" fill=\"#000000\">Age ≤ 78.0</text>\n<text text-anchor=\"start\" x=\"267.5\" y=\"-513.8\" font-family=\"Helvetica,sans-Serif\" font-size=\"14.00\" fill=\"#000000\">entropy = 0.918</text>\n<text text-anchor=\"start\" x=\"279\" y=\"-498.8\" font-family=\"Helvetica,sans-Serif\" font-size=\"14.00\" fill=\"#000000\">samples = 9</text>\n<text text-anchor=\"start\" x=\"277\" y=\"-483.8\" font-family=\"Helvetica,sans-Serif\" font-size=\"14.00\" fill=\"#000000\">value = [6, 3]</text>\n<text text-anchor=\"start\" x=\"259.5\" y=\"-468.8\" font-family=\"Helvetica,sans-Serif\" font-size=\"14.00\" fill=\"#000000\">class = Demented</text>\n</g>\n<!-- 8&#45;&gt;9 -->\n<g id=\"edge9\" class=\"edge\">\n<title>8&#45;&gt;9</title>\n<path fill=\"none\" stroke=\"#000000\" d=\"M367.9189,-579.8796C362.3395,-571.1434 356.3981,-561.8404 350.6405,-552.8253\"/>\n<polygon fill=\"#000000\" stroke=\"#000000\" points=\"353.5269,-550.8421 345.1946,-544.2981 347.6274,-554.6098 353.5269,-550.8421\"/>\n</g>\n<!-- 18 -->\n<g id=\"node19\" class=\"node\">\n<title>18</title>\n<path fill=\"#e78946\" stroke=\"#000000\" d=\"M525.5,-544C525.5,-544 415.5,-544 415.5,-544 409.5,-544 403.5,-538 403.5,-532 403.5,-532 403.5,-473 403.5,-473 403.5,-467 409.5,-461 415.5,-461 415.5,-461 525.5,-461 525.5,-461 531.5,-461 537.5,-467 537.5,-473 537.5,-473 537.5,-532 537.5,-532 537.5,-538 531.5,-544 525.5,-544\"/>\n<text text-anchor=\"start\" x=\"435.5\" y=\"-528.8\" font-family=\"Helvetica,sans-Serif\" font-size=\"14.00\" fill=\"#000000\">Age ≤ 78.5</text>\n<text text-anchor=\"start\" x=\"419.5\" y=\"-513.8\" font-family=\"Helvetica,sans-Serif\" font-size=\"14.00\" fill=\"#000000\">entropy = 0.337</text>\n<text text-anchor=\"start\" x=\"426.5\" y=\"-498.8\" font-family=\"Helvetica,sans-Serif\" font-size=\"14.00\" fill=\"#000000\">samples = 16</text>\n<text text-anchor=\"start\" x=\"425\" y=\"-483.8\" font-family=\"Helvetica,sans-Serif\" font-size=\"14.00\" fill=\"#000000\">value = [15, 1]</text>\n<text text-anchor=\"start\" x=\"411.5\" y=\"-468.8\" font-family=\"Helvetica,sans-Serif\" font-size=\"14.00\" fill=\"#000000\">class = Demented</text>\n</g>\n<!-- 8&#45;&gt;18 -->\n<g id=\"edge18\" class=\"edge\">\n<title>8&#45;&gt;18</title>\n<path fill=\"none\" stroke=\"#000000\" d=\"M421.0811,-579.8796C426.6605,-571.1434 432.6019,-561.8404 438.3595,-552.8253\"/>\n<polygon fill=\"#000000\" stroke=\"#000000\" points=\"441.3726,-554.6098 443.8054,-544.2981 435.4731,-550.8421 441.3726,-554.6098\"/>\n</g>\n<!-- 10 -->\n<g id=\"node11\" class=\"node\">\n<title>10</title>\n<path fill=\"#ffffff\" stroke=\"#000000\" d=\"M221.5,-425C221.5,-425 111.5,-425 111.5,-425 105.5,-425 99.5,-419 99.5,-413 99.5,-413 99.5,-354 99.5,-354 99.5,-348 105.5,-342 111.5,-342 111.5,-342 221.5,-342 221.5,-342 227.5,-342 233.5,-348 233.5,-354 233.5,-354 233.5,-413 233.5,-413 233.5,-419 227.5,-425 221.5,-425\"/>\n<text text-anchor=\"start\" x=\"131.5\" y=\"-409.8\" font-family=\"Helvetica,sans-Serif\" font-size=\"14.00\" fill=\"#000000\">Age ≤ 66.0</text>\n<text text-anchor=\"start\" x=\"124\" y=\"-394.8\" font-family=\"Helvetica,sans-Serif\" font-size=\"14.00\" fill=\"#000000\">entropy = 1.0</text>\n<text text-anchor=\"start\" x=\"127\" y=\"-379.8\" font-family=\"Helvetica,sans-Serif\" font-size=\"14.00\" fill=\"#000000\">samples = 6</text>\n<text text-anchor=\"start\" x=\"125\" y=\"-364.8\" font-family=\"Helvetica,sans-Serif\" font-size=\"14.00\" fill=\"#000000\">value = [3, 3]</text>\n<text text-anchor=\"start\" x=\"107.5\" y=\"-349.8\" font-family=\"Helvetica,sans-Serif\" font-size=\"14.00\" fill=\"#000000\">class = Demented</text>\n</g>\n<!-- 9&#45;&gt;10 -->\n<g id=\"edge10\" class=\"edge\">\n<title>9&#45;&gt;10</title>\n<path fill=\"none\" stroke=\"#000000\" d=\"M265.3378,-460.8796C253.1885,-451.368 240.1808,-441.1843 227.724,-431.432\"/>\n<polygon fill=\"#000000\" stroke=\"#000000\" points=\"229.6638,-428.5055 219.6322,-425.0969 225.3486,-434.0173 229.6638,-428.5055\"/>\n</g>\n<!-- 17 -->\n<g id=\"node18\" class=\"node\">\n<title>17</title>\n<path fill=\"#e58139\" stroke=\"#000000\" d=\"M373.5,-417.5C373.5,-417.5 263.5,-417.5 263.5,-417.5 257.5,-417.5 251.5,-411.5 251.5,-405.5 251.5,-405.5 251.5,-361.5 251.5,-361.5 251.5,-355.5 257.5,-349.5 263.5,-349.5 263.5,-349.5 373.5,-349.5 373.5,-349.5 379.5,-349.5 385.5,-355.5 385.5,-361.5 385.5,-361.5 385.5,-405.5 385.5,-405.5 385.5,-411.5 379.5,-417.5 373.5,-417.5\"/>\n<text text-anchor=\"start\" x=\"276\" y=\"-402.3\" font-family=\"Helvetica,sans-Serif\" font-size=\"14.00\" fill=\"#000000\">entropy = 0.0</text>\n<text text-anchor=\"start\" x=\"279\" y=\"-387.3\" font-family=\"Helvetica,sans-Serif\" font-size=\"14.00\" fill=\"#000000\">samples = 3</text>\n<text text-anchor=\"start\" x=\"277\" y=\"-372.3\" font-family=\"Helvetica,sans-Serif\" font-size=\"14.00\" fill=\"#000000\">value = [3, 0]</text>\n<text text-anchor=\"start\" x=\"259.5\" y=\"-357.3\" font-family=\"Helvetica,sans-Serif\" font-size=\"14.00\" fill=\"#000000\">class = Demented</text>\n</g>\n<!-- 9&#45;&gt;17 -->\n<g id=\"edge17\" class=\"edge\">\n<title>9&#45;&gt;17</title>\n<path fill=\"none\" stroke=\"#000000\" d=\"M318.5,-460.8796C318.5,-450.2134 318.5,-438.7021 318.5,-427.9015\"/>\n<polygon fill=\"#000000\" stroke=\"#000000\" points=\"322.0001,-427.8149 318.5,-417.8149 315.0001,-427.815 322.0001,-427.8149\"/>\n</g>\n<!-- 11 -->\n<g id=\"node12\" class=\"node\">\n<title>11</title>\n<path fill=\"#e58139\" stroke=\"#000000\" d=\"M137.5,-298.5C137.5,-298.5 27.5,-298.5 27.5,-298.5 21.5,-298.5 15.5,-292.5 15.5,-286.5 15.5,-286.5 15.5,-242.5 15.5,-242.5 15.5,-236.5 21.5,-230.5 27.5,-230.5 27.5,-230.5 137.5,-230.5 137.5,-230.5 143.5,-230.5 149.5,-236.5 149.5,-242.5 149.5,-242.5 149.5,-286.5 149.5,-286.5 149.5,-292.5 143.5,-298.5 137.5,-298.5\"/>\n<text text-anchor=\"start\" x=\"40\" y=\"-283.3\" font-family=\"Helvetica,sans-Serif\" font-size=\"14.00\" fill=\"#000000\">entropy = 0.0</text>\n<text text-anchor=\"start\" x=\"43\" y=\"-268.3\" font-family=\"Helvetica,sans-Serif\" font-size=\"14.00\" fill=\"#000000\">samples = 2</text>\n<text text-anchor=\"start\" x=\"41\" y=\"-253.3\" font-family=\"Helvetica,sans-Serif\" font-size=\"14.00\" fill=\"#000000\">value = [2, 0]</text>\n<text text-anchor=\"start\" x=\"23.5\" y=\"-238.3\" font-family=\"Helvetica,sans-Serif\" font-size=\"14.00\" fill=\"#000000\">class = Demented</text>\n</g>\n<!-- 10&#45;&gt;11 -->\n<g id=\"edge11\" class=\"edge\">\n<title>10&#45;&gt;11</title>\n<path fill=\"none\" stroke=\"#000000\" d=\"M137.1209,-341.8796C129.2037,-330.6636 120.6269,-318.5131 112.6675,-307.2372\"/>\n<polygon fill=\"#000000\" stroke=\"#000000\" points=\"115.3486,-304.9662 106.7223,-298.8149 109.6298,-309.003 115.3486,-304.9662\"/>\n</g>\n<!-- 12 -->\n<g id=\"node13\" class=\"node\">\n<title>12</title>\n<path fill=\"#7bbeee\" stroke=\"#000000\" d=\"M321,-306C321,-306 180,-306 180,-306 174,-306 168,-300 168,-294 168,-294 168,-235 168,-235 168,-229 174,-223 180,-223 180,-223 321,-223 321,-223 327,-223 333,-229 333,-235 333,-235 333,-294 333,-294 333,-300 327,-306 321,-306\"/>\n<text text-anchor=\"start\" x=\"206.5\" y=\"-290.8\" font-family=\"Helvetica,sans-Serif\" font-size=\"14.00\" fill=\"#000000\">MMSE ≤ 29.0</text>\n<text text-anchor=\"start\" x=\"199.5\" y=\"-275.8\" font-family=\"Helvetica,sans-Serif\" font-size=\"14.00\" fill=\"#000000\">entropy = 0.811</text>\n<text text-anchor=\"start\" x=\"211\" y=\"-260.8\" font-family=\"Helvetica,sans-Serif\" font-size=\"14.00\" fill=\"#000000\">samples = 4</text>\n<text text-anchor=\"start\" x=\"209\" y=\"-245.8\" font-family=\"Helvetica,sans-Serif\" font-size=\"14.00\" fill=\"#000000\">value = [1, 3]</text>\n<text text-anchor=\"start\" x=\"176\" y=\"-230.8\" font-family=\"Helvetica,sans-Serif\" font-size=\"14.00\" fill=\"#000000\">class = Non&#45;Demented</text>\n</g>\n<!-- 10&#45;&gt;12 -->\n<g id=\"edge12\" class=\"edge\">\n<title>10&#45;&gt;12</title>\n<path fill=\"none\" stroke=\"#000000\" d=\"M195.8791,-341.8796C202.1094,-333.0534 208.7481,-323.6485 215.173,-314.5466\"/>\n<polygon fill=\"#000000\" stroke=\"#000000\" points=\"218.088,-316.4862 220.9955,-306.2981 212.3692,-312.4494 218.088,-316.4862\"/>\n</g>\n<!-- 13 -->\n<g id=\"node14\" class=\"node\">\n<title>13</title>\n<path fill=\"#ffffff\" stroke=\"#000000\" d=\"M221.5,-187C221.5,-187 111.5,-187 111.5,-187 105.5,-187 99.5,-181 99.5,-175 99.5,-175 99.5,-116 99.5,-116 99.5,-110 105.5,-104 111.5,-104 111.5,-104 221.5,-104 221.5,-104 227.5,-104 233.5,-110 233.5,-116 233.5,-116 233.5,-175 233.5,-175 233.5,-181 227.5,-187 221.5,-187\"/>\n<text text-anchor=\"start\" x=\"121\" y=\"-171.8\" font-family=\"Helvetica,sans-Serif\" font-size=\"14.00\" fill=\"#000000\">eTIV ≤ 1320.5</text>\n<text text-anchor=\"start\" x=\"124\" y=\"-156.8\" font-family=\"Helvetica,sans-Serif\" font-size=\"14.00\" fill=\"#000000\">entropy = 1.0</text>\n<text text-anchor=\"start\" x=\"127\" y=\"-141.8\" font-family=\"Helvetica,sans-Serif\" font-size=\"14.00\" fill=\"#000000\">samples = 2</text>\n<text text-anchor=\"start\" x=\"125\" y=\"-126.8\" font-family=\"Helvetica,sans-Serif\" font-size=\"14.00\" fill=\"#000000\">value = [1, 1]</text>\n<text text-anchor=\"start\" x=\"107.5\" y=\"-111.8\" font-family=\"Helvetica,sans-Serif\" font-size=\"14.00\" fill=\"#000000\">class = Demented</text>\n</g>\n<!-- 12&#45;&gt;13 -->\n<g id=\"edge13\" class=\"edge\">\n<title>12&#45;&gt;13</title>\n<path fill=\"none\" stroke=\"#000000\" d=\"M221.1209,-222.8796C214.8906,-214.0534 208.2519,-204.6485 201.827,-195.5466\"/>\n<polygon fill=\"#000000\" stroke=\"#000000\" points=\"204.6308,-193.4494 196.0045,-187.2981 198.912,-197.4862 204.6308,-193.4494\"/>\n</g>\n<!-- 16 -->\n<g id=\"node17\" class=\"node\">\n<title>16</title>\n<path fill=\"#399de5\" stroke=\"#000000\" d=\"M405,-179.5C405,-179.5 264,-179.5 264,-179.5 258,-179.5 252,-173.5 252,-167.5 252,-167.5 252,-123.5 252,-123.5 252,-117.5 258,-111.5 264,-111.5 264,-111.5 405,-111.5 405,-111.5 411,-111.5 417,-117.5 417,-123.5 417,-123.5 417,-167.5 417,-167.5 417,-173.5 411,-179.5 405,-179.5\"/>\n<text text-anchor=\"start\" x=\"292\" y=\"-164.3\" font-family=\"Helvetica,sans-Serif\" font-size=\"14.00\" fill=\"#000000\">entropy = 0.0</text>\n<text text-anchor=\"start\" x=\"295\" y=\"-149.3\" font-family=\"Helvetica,sans-Serif\" font-size=\"14.00\" fill=\"#000000\">samples = 2</text>\n<text text-anchor=\"start\" x=\"293\" y=\"-134.3\" font-family=\"Helvetica,sans-Serif\" font-size=\"14.00\" fill=\"#000000\">value = [0, 2]</text>\n<text text-anchor=\"start\" x=\"260\" y=\"-119.3\" font-family=\"Helvetica,sans-Serif\" font-size=\"14.00\" fill=\"#000000\">class = Non&#45;Demented</text>\n</g>\n<!-- 12&#45;&gt;16 -->\n<g id=\"edge16\" class=\"edge\">\n<title>12&#45;&gt;16</title>\n<path fill=\"none\" stroke=\"#000000\" d=\"M279.8791,-222.8796C287.7963,-211.6636 296.3731,-199.5131 304.3325,-188.2372\"/>\n<polygon fill=\"#000000\" stroke=\"#000000\" points=\"307.3702,-190.003 310.2777,-179.8149 301.6514,-185.9662 307.3702,-190.003\"/>\n</g>\n<!-- 14 -->\n<g id=\"node15\" class=\"node\">\n<title>14</title>\n<path fill=\"#399de5\" stroke=\"#000000\" d=\"M153,-68C153,-68 12,-68 12,-68 6,-68 0,-62 0,-56 0,-56 0,-12 0,-12 0,-6 6,0 12,0 12,0 153,0 153,0 159,0 165,-6 165,-12 165,-12 165,-56 165,-56 165,-62 159,-68 153,-68\"/>\n<text text-anchor=\"start\" x=\"40\" y=\"-52.8\" font-family=\"Helvetica,sans-Serif\" font-size=\"14.00\" fill=\"#000000\">entropy = 0.0</text>\n<text text-anchor=\"start\" x=\"43\" y=\"-37.8\" font-family=\"Helvetica,sans-Serif\" font-size=\"14.00\" fill=\"#000000\">samples = 1</text>\n<text text-anchor=\"start\" x=\"41\" y=\"-22.8\" font-family=\"Helvetica,sans-Serif\" font-size=\"14.00\" fill=\"#000000\">value = [0, 1]</text>\n<text text-anchor=\"start\" x=\"8\" y=\"-7.8\" font-family=\"Helvetica,sans-Serif\" font-size=\"14.00\" fill=\"#000000\">class = Non&#45;Demented</text>\n</g>\n<!-- 13&#45;&gt;14 -->\n<g id=\"edge14\" class=\"edge\">\n<title>13&#45;&gt;14</title>\n<path fill=\"none\" stroke=\"#000000\" d=\"M135.2215,-103.9815C128.4361,-94.9747 121.2505,-85.4367 114.4399,-76.3965\"/>\n<polygon fill=\"#000000\" stroke=\"#000000\" points=\"117.1257,-74.1448 108.313,-68.2637 111.5347,-78.3568 117.1257,-74.1448\"/>\n</g>\n<!-- 15 -->\n<g id=\"node16\" class=\"node\">\n<title>15</title>\n<path fill=\"#e58139\" stroke=\"#000000\" d=\"M305.5,-68C305.5,-68 195.5,-68 195.5,-68 189.5,-68 183.5,-62 183.5,-56 183.5,-56 183.5,-12 183.5,-12 183.5,-6 189.5,0 195.5,0 195.5,0 305.5,0 305.5,0 311.5,0 317.5,-6 317.5,-12 317.5,-12 317.5,-56 317.5,-56 317.5,-62 311.5,-68 305.5,-68\"/>\n<text text-anchor=\"start\" x=\"208\" y=\"-52.8\" font-family=\"Helvetica,sans-Serif\" font-size=\"14.00\" fill=\"#000000\">entropy = 0.0</text>\n<text text-anchor=\"start\" x=\"211\" y=\"-37.8\" font-family=\"Helvetica,sans-Serif\" font-size=\"14.00\" fill=\"#000000\">samples = 1</text>\n<text text-anchor=\"start\" x=\"209\" y=\"-22.8\" font-family=\"Helvetica,sans-Serif\" font-size=\"14.00\" fill=\"#000000\">value = [1, 0]</text>\n<text text-anchor=\"start\" x=\"191.5\" y=\"-7.8\" font-family=\"Helvetica,sans-Serif\" font-size=\"14.00\" fill=\"#000000\">class = Demented</text>\n</g>\n<!-- 13&#45;&gt;15 -->\n<g id=\"edge15\" class=\"edge\">\n<title>13&#45;&gt;15</title>\n<path fill=\"none\" stroke=\"#000000\" d=\"M197.7785,-103.9815C204.5639,-94.9747 211.7495,-85.4367 218.5601,-76.3965\"/>\n<polygon fill=\"#000000\" stroke=\"#000000\" points=\"221.4653,-78.3568 224.687,-68.2637 215.8743,-74.1448 221.4653,-78.3568\"/>\n</g>\n<!-- 19 -->\n<g id=\"node20\" class=\"node\">\n<title>19</title>\n<path fill=\"#e58139\" stroke=\"#000000\" d=\"M525.5,-417.5C525.5,-417.5 415.5,-417.5 415.5,-417.5 409.5,-417.5 403.5,-411.5 403.5,-405.5 403.5,-405.5 403.5,-361.5 403.5,-361.5 403.5,-355.5 409.5,-349.5 415.5,-349.5 415.5,-349.5 525.5,-349.5 525.5,-349.5 531.5,-349.5 537.5,-355.5 537.5,-361.5 537.5,-361.5 537.5,-405.5 537.5,-405.5 537.5,-411.5 531.5,-417.5 525.5,-417.5\"/>\n<text text-anchor=\"start\" x=\"428\" y=\"-402.3\" font-family=\"Helvetica,sans-Serif\" font-size=\"14.00\" fill=\"#000000\">entropy = 0.0</text>\n<text text-anchor=\"start\" x=\"426.5\" y=\"-387.3\" font-family=\"Helvetica,sans-Serif\" font-size=\"14.00\" fill=\"#000000\">samples = 13</text>\n<text text-anchor=\"start\" x=\"425\" y=\"-372.3\" font-family=\"Helvetica,sans-Serif\" font-size=\"14.00\" fill=\"#000000\">value = [13, 0]</text>\n<text text-anchor=\"start\" x=\"411.5\" y=\"-357.3\" font-family=\"Helvetica,sans-Serif\" font-size=\"14.00\" fill=\"#000000\">class = Demented</text>\n</g>\n<!-- 18&#45;&gt;19 -->\n<g id=\"edge19\" class=\"edge\">\n<title>18&#45;&gt;19</title>\n<path fill=\"none\" stroke=\"#000000\" d=\"M470.5,-460.8796C470.5,-450.2134 470.5,-438.7021 470.5,-427.9015\"/>\n<polygon fill=\"#000000\" stroke=\"#000000\" points=\"474.0001,-427.8149 470.5,-417.8149 467.0001,-427.815 474.0001,-427.8149\"/>\n</g>\n<!-- 20 -->\n<g id=\"node21\" class=\"node\">\n<title>20</title>\n<path fill=\"#f2c09c\" stroke=\"#000000\" d=\"M677.5,-425C677.5,-425 567.5,-425 567.5,-425 561.5,-425 555.5,-419 555.5,-413 555.5,-413 555.5,-354 555.5,-354 555.5,-348 561.5,-342 567.5,-342 567.5,-342 677.5,-342 677.5,-342 683.5,-342 689.5,-348 689.5,-354 689.5,-354 689.5,-413 689.5,-413 689.5,-419 683.5,-425 677.5,-425\"/>\n<text text-anchor=\"start\" x=\"587.5\" y=\"-409.8\" font-family=\"Helvetica,sans-Serif\" font-size=\"14.00\" fill=\"#000000\">Age ≤ 79.5</text>\n<text text-anchor=\"start\" x=\"571.5\" y=\"-394.8\" font-family=\"Helvetica,sans-Serif\" font-size=\"14.00\" fill=\"#000000\">entropy = 0.918</text>\n<text text-anchor=\"start\" x=\"583\" y=\"-379.8\" font-family=\"Helvetica,sans-Serif\" font-size=\"14.00\" fill=\"#000000\">samples = 3</text>\n<text text-anchor=\"start\" x=\"581\" y=\"-364.8\" font-family=\"Helvetica,sans-Serif\" font-size=\"14.00\" fill=\"#000000\">value = [2, 1]</text>\n<text text-anchor=\"start\" x=\"563.5\" y=\"-349.8\" font-family=\"Helvetica,sans-Serif\" font-size=\"14.00\" fill=\"#000000\">class = Demented</text>\n</g>\n<!-- 18&#45;&gt;20 -->\n<g id=\"edge20\" class=\"edge\">\n<title>18&#45;&gt;20</title>\n<path fill=\"none\" stroke=\"#000000\" d=\"M523.6622,-460.8796C535.8115,-451.368 548.8192,-441.1843 561.276,-431.432\"/>\n<polygon fill=\"#000000\" stroke=\"#000000\" points=\"563.6514,-434.0173 569.3678,-425.0969 559.3362,-428.5055 563.6514,-434.0173\"/>\n</g>\n<!-- 21 -->\n<g id=\"node22\" class=\"node\">\n<title>21</title>\n<path fill=\"#399de5\" stroke=\"#000000\" d=\"M609,-298.5C609,-298.5 468,-298.5 468,-298.5 462,-298.5 456,-292.5 456,-286.5 456,-286.5 456,-242.5 456,-242.5 456,-236.5 462,-230.5 468,-230.5 468,-230.5 609,-230.5 609,-230.5 615,-230.5 621,-236.5 621,-242.5 621,-242.5 621,-286.5 621,-286.5 621,-292.5 615,-298.5 609,-298.5\"/>\n<text text-anchor=\"start\" x=\"496\" y=\"-283.3\" font-family=\"Helvetica,sans-Serif\" font-size=\"14.00\" fill=\"#000000\">entropy = 0.0</text>\n<text text-anchor=\"start\" x=\"499\" y=\"-268.3\" font-family=\"Helvetica,sans-Serif\" font-size=\"14.00\" fill=\"#000000\">samples = 1</text>\n<text text-anchor=\"start\" x=\"497\" y=\"-253.3\" font-family=\"Helvetica,sans-Serif\" font-size=\"14.00\" fill=\"#000000\">value = [0, 1]</text>\n<text text-anchor=\"start\" x=\"464\" y=\"-238.3\" font-family=\"Helvetica,sans-Serif\" font-size=\"14.00\" fill=\"#000000\">class = Non&#45;Demented</text>\n</g>\n<!-- 20&#45;&gt;21 -->\n<g id=\"edge21\" class=\"edge\">\n<title>20&#45;&gt;21</title>\n<path fill=\"none\" stroke=\"#000000\" d=\"M593.1209,-341.8796C585.2037,-330.6636 576.6269,-318.5131 568.6675,-307.2372\"/>\n<polygon fill=\"#000000\" stroke=\"#000000\" points=\"571.3486,-304.9662 562.7223,-298.8149 565.6298,-309.003 571.3486,-304.9662\"/>\n</g>\n<!-- 22 -->\n<g id=\"node23\" class=\"node\">\n<title>22</title>\n<path fill=\"#e58139\" stroke=\"#000000\" d=\"M761.5,-298.5C761.5,-298.5 651.5,-298.5 651.5,-298.5 645.5,-298.5 639.5,-292.5 639.5,-286.5 639.5,-286.5 639.5,-242.5 639.5,-242.5 639.5,-236.5 645.5,-230.5 651.5,-230.5 651.5,-230.5 761.5,-230.5 761.5,-230.5 767.5,-230.5 773.5,-236.5 773.5,-242.5 773.5,-242.5 773.5,-286.5 773.5,-286.5 773.5,-292.5 767.5,-298.5 761.5,-298.5\"/>\n<text text-anchor=\"start\" x=\"664\" y=\"-283.3\" font-family=\"Helvetica,sans-Serif\" font-size=\"14.00\" fill=\"#000000\">entropy = 0.0</text>\n<text text-anchor=\"start\" x=\"667\" y=\"-268.3\" font-family=\"Helvetica,sans-Serif\" font-size=\"14.00\" fill=\"#000000\">samples = 2</text>\n<text text-anchor=\"start\" x=\"665\" y=\"-253.3\" font-family=\"Helvetica,sans-Serif\" font-size=\"14.00\" fill=\"#000000\">value = [2, 0]</text>\n<text text-anchor=\"start\" x=\"647.5\" y=\"-238.3\" font-family=\"Helvetica,sans-Serif\" font-size=\"14.00\" fill=\"#000000\">class = Demented</text>\n</g>\n<!-- 20&#45;&gt;22 -->\n<g id=\"edge22\" class=\"edge\">\n<title>20&#45;&gt;22</title>\n<path fill=\"none\" stroke=\"#000000\" d=\"M651.8791,-341.8796C659.7963,-330.6636 668.3731,-318.5131 676.3325,-307.2372\"/>\n<polygon fill=\"#000000\" stroke=\"#000000\" points=\"679.3702,-309.003 682.2777,-298.8149 673.6514,-304.9662 679.3702,-309.003\"/>\n</g>\n<!-- 26 -->\n<g id=\"node27\" class=\"node\">\n<title>26</title>\n<path fill=\"#e58139\" stroke=\"#000000\" d=\"M887.5,-893.5C887.5,-893.5 777.5,-893.5 777.5,-893.5 771.5,-893.5 765.5,-887.5 765.5,-881.5 765.5,-881.5 765.5,-837.5 765.5,-837.5 765.5,-831.5 771.5,-825.5 777.5,-825.5 777.5,-825.5 887.5,-825.5 887.5,-825.5 893.5,-825.5 899.5,-831.5 899.5,-837.5 899.5,-837.5 899.5,-881.5 899.5,-881.5 899.5,-887.5 893.5,-893.5 887.5,-893.5\"/>\n<text text-anchor=\"start\" x=\"790\" y=\"-878.3\" font-family=\"Helvetica,sans-Serif\" font-size=\"14.00\" fill=\"#000000\">entropy = 0.0</text>\n<text text-anchor=\"start\" x=\"788.5\" y=\"-863.3\" font-family=\"Helvetica,sans-Serif\" font-size=\"14.00\" fill=\"#000000\">samples = 40</text>\n<text text-anchor=\"start\" x=\"787\" y=\"-848.3\" font-family=\"Helvetica,sans-Serif\" font-size=\"14.00\" fill=\"#000000\">value = [40, 0]</text>\n<text text-anchor=\"start\" x=\"773.5\" y=\"-833.3\" font-family=\"Helvetica,sans-Serif\" font-size=\"14.00\" fill=\"#000000\">class = Demented</text>\n</g>\n<!-- 25&#45;&gt;26 -->\n<g id=\"edge26\" class=\"edge\">\n<title>25&#45;&gt;26</title>\n<path fill=\"none\" stroke=\"#000000\" d=\"M832.5,-936.8796C832.5,-926.2134 832.5,-914.7021 832.5,-903.9015\"/>\n<polygon fill=\"#000000\" stroke=\"#000000\" points=\"836.0001,-903.8149 832.5,-893.8149 829.0001,-903.815 836.0001,-903.8149\"/>\n</g>\n<!-- 27 -->\n<g id=\"node28\" class=\"node\">\n<title>27</title>\n<path fill=\"#e78b49\" stroke=\"#000000\" d=\"M1039.5,-901C1039.5,-901 929.5,-901 929.5,-901 923.5,-901 917.5,-895 917.5,-889 917.5,-889 917.5,-830 917.5,-830 917.5,-824 923.5,-818 929.5,-818 929.5,-818 1039.5,-818 1039.5,-818 1045.5,-818 1051.5,-824 1051.5,-830 1051.5,-830 1051.5,-889 1051.5,-889 1051.5,-895 1045.5,-901 1039.5,-901\"/>\n<text text-anchor=\"start\" x=\"939\" y=\"-885.8\" font-family=\"Helvetica,sans-Serif\" font-size=\"14.00\" fill=\"#000000\">eTIV ≤ 1394.0</text>\n<text text-anchor=\"start\" x=\"933.5\" y=\"-870.8\" font-family=\"Helvetica,sans-Serif\" font-size=\"14.00\" fill=\"#000000\">entropy = 0.388</text>\n<text text-anchor=\"start\" x=\"940.5\" y=\"-855.8\" font-family=\"Helvetica,sans-Serif\" font-size=\"14.00\" fill=\"#000000\">samples = 79</text>\n<text text-anchor=\"start\" x=\"939\" y=\"-840.8\" font-family=\"Helvetica,sans-Serif\" font-size=\"14.00\" fill=\"#000000\">value = [73, 6]</text>\n<text text-anchor=\"start\" x=\"925.5\" y=\"-825.8\" font-family=\"Helvetica,sans-Serif\" font-size=\"14.00\" fill=\"#000000\">class = Demented</text>\n</g>\n<!-- 25&#45;&gt;27 -->\n<g id=\"edge27\" class=\"edge\">\n<title>25&#45;&gt;27</title>\n<path fill=\"none\" stroke=\"#000000\" d=\"M885.6622,-936.8796C897.8115,-927.368 910.8192,-917.1843 923.276,-907.432\"/>\n<polygon fill=\"#000000\" stroke=\"#000000\" points=\"925.6514,-910.0173 931.3678,-901.0969 921.3362,-904.5055 925.6514,-910.0173\"/>\n</g>\n<!-- 28 -->\n<g id=\"node29\" class=\"node\">\n<title>28</title>\n<path fill=\"#e6843d\" stroke=\"#000000\" d=\"M1005.5,-782C1005.5,-782 895.5,-782 895.5,-782 889.5,-782 883.5,-776 883.5,-770 883.5,-770 883.5,-711 883.5,-711 883.5,-705 889.5,-699 895.5,-699 895.5,-699 1005.5,-699 1005.5,-699 1011.5,-699 1017.5,-705 1017.5,-711 1017.5,-711 1017.5,-770 1017.5,-770 1017.5,-776 1011.5,-782 1005.5,-782\"/>\n<text text-anchor=\"start\" x=\"903.5\" y=\"-766.8\" font-family=\"Helvetica,sans-Serif\" font-size=\"14.00\" fill=\"#000000\">nWBV ≤ 0.798</text>\n<text text-anchor=\"start\" x=\"899.5\" y=\"-751.8\" font-family=\"Helvetica,sans-Serif\" font-size=\"14.00\" fill=\"#000000\">entropy = 0.139</text>\n<text text-anchor=\"start\" x=\"906.5\" y=\"-736.8\" font-family=\"Helvetica,sans-Serif\" font-size=\"14.00\" fill=\"#000000\">samples = 51</text>\n<text text-anchor=\"start\" x=\"905\" y=\"-721.8\" font-family=\"Helvetica,sans-Serif\" font-size=\"14.00\" fill=\"#000000\">value = [50, 1]</text>\n<text text-anchor=\"start\" x=\"891.5\" y=\"-706.8\" font-family=\"Helvetica,sans-Serif\" font-size=\"14.00\" fill=\"#000000\">class = Demented</text>\n</g>\n<!-- 27&#45;&gt;28 -->\n<g id=\"edge28\" class=\"edge\">\n<title>27&#45;&gt;28</title>\n<path fill=\"none\" stroke=\"#000000\" d=\"M972.6084,-817.8796C970.2153,-809.5037 967.6733,-800.6067 965.1977,-791.942\"/>\n<polygon fill=\"#000000\" stroke=\"#000000\" points=\"968.5549,-790.9518 962.4423,-782.2981 961.8243,-792.8749 968.5549,-790.9518\"/>\n</g>\n<!-- 33 -->\n<g id=\"node34\" class=\"node\">\n<title>33</title>\n<path fill=\"#eb9c64\" stroke=\"#000000\" d=\"M1264.5,-782C1264.5,-782 1154.5,-782 1154.5,-782 1148.5,-782 1142.5,-776 1142.5,-770 1142.5,-770 1142.5,-711 1142.5,-711 1142.5,-705 1148.5,-699 1154.5,-699 1154.5,-699 1264.5,-699 1264.5,-699 1270.5,-699 1276.5,-705 1276.5,-711 1276.5,-711 1276.5,-770 1276.5,-770 1276.5,-776 1270.5,-782 1264.5,-782\"/>\n<text text-anchor=\"start\" x=\"1167\" y=\"-766.8\" font-family=\"Helvetica,sans-Serif\" font-size=\"14.00\" fill=\"#000000\">nWBV ≤ 0.72</text>\n<text text-anchor=\"start\" x=\"1158.5\" y=\"-751.8\" font-family=\"Helvetica,sans-Serif\" font-size=\"14.00\" fill=\"#000000\">entropy = 0.677</text>\n<text text-anchor=\"start\" x=\"1165.5\" y=\"-736.8\" font-family=\"Helvetica,sans-Serif\" font-size=\"14.00\" fill=\"#000000\">samples = 28</text>\n<text text-anchor=\"start\" x=\"1164\" y=\"-721.8\" font-family=\"Helvetica,sans-Serif\" font-size=\"14.00\" fill=\"#000000\">value = [23, 5]</text>\n<text text-anchor=\"start\" x=\"1150.5\" y=\"-706.8\" font-family=\"Helvetica,sans-Serif\" font-size=\"14.00\" fill=\"#000000\">class = Demented</text>\n</g>\n<!-- 27&#45;&gt;33 -->\n<g id=\"edge33\" class=\"edge\">\n<title>27&#45;&gt;33</title>\n<path fill=\"none\" stroke=\"#000000\" d=\"M1051.7026,-823.9573C1077.4139,-810.3589 1106.9146,-794.7563 1133.3989,-780.749\"/>\n<polygon fill=\"#000000\" stroke=\"#000000\" points=\"1135.0517,-783.8343 1142.2551,-776.0651 1131.7789,-777.6465 1135.0517,-783.8343\"/>\n</g>\n<!-- 29 -->\n<g id=\"node30\" class=\"node\">\n<title>29</title>\n<path fill=\"#e58139\" stroke=\"#000000\" d=\"M853.5,-655.5C853.5,-655.5 743.5,-655.5 743.5,-655.5 737.5,-655.5 731.5,-649.5 731.5,-643.5 731.5,-643.5 731.5,-599.5 731.5,-599.5 731.5,-593.5 737.5,-587.5 743.5,-587.5 743.5,-587.5 853.5,-587.5 853.5,-587.5 859.5,-587.5 865.5,-593.5 865.5,-599.5 865.5,-599.5 865.5,-643.5 865.5,-643.5 865.5,-649.5 859.5,-655.5 853.5,-655.5\"/>\n<text text-anchor=\"start\" x=\"756\" y=\"-640.3\" font-family=\"Helvetica,sans-Serif\" font-size=\"14.00\" fill=\"#000000\">entropy = 0.0</text>\n<text text-anchor=\"start\" x=\"754.5\" y=\"-625.3\" font-family=\"Helvetica,sans-Serif\" font-size=\"14.00\" fill=\"#000000\">samples = 43</text>\n<text text-anchor=\"start\" x=\"753\" y=\"-610.3\" font-family=\"Helvetica,sans-Serif\" font-size=\"14.00\" fill=\"#000000\">value = [43, 0]</text>\n<text text-anchor=\"start\" x=\"739.5\" y=\"-595.3\" font-family=\"Helvetica,sans-Serif\" font-size=\"14.00\" fill=\"#000000\">class = Demented</text>\n</g>\n<!-- 28&#45;&gt;29 -->\n<g id=\"edge29\" class=\"edge\">\n<title>28&#45;&gt;29</title>\n<path fill=\"none\" stroke=\"#000000\" d=\"M897.3378,-698.8796C882.1687,-687.0038 865.6616,-674.0804 850.5591,-662.2568\"/>\n<polygon fill=\"#000000\" stroke=\"#000000\" points=\"852.3624,-659.2236 842.3308,-655.8149 848.0472,-664.7353 852.3624,-659.2236\"/>\n</g>\n<!-- 30 -->\n<g id=\"node31\" class=\"node\">\n<title>30</title>\n<path fill=\"#e99355\" stroke=\"#000000\" d=\"M1005.5,-663C1005.5,-663 895.5,-663 895.5,-663 889.5,-663 883.5,-657 883.5,-651 883.5,-651 883.5,-592 883.5,-592 883.5,-586 889.5,-580 895.5,-580 895.5,-580 1005.5,-580 1005.5,-580 1011.5,-580 1017.5,-586 1017.5,-592 1017.5,-592 1017.5,-651 1017.5,-651 1017.5,-657 1011.5,-663 1005.5,-663\"/>\n<text text-anchor=\"start\" x=\"910\" y=\"-647.8\" font-family=\"Helvetica,sans-Serif\" font-size=\"14.00\" fill=\"#000000\">ASF ≤ 1.345</text>\n<text text-anchor=\"start\" x=\"899.5\" y=\"-632.8\" font-family=\"Helvetica,sans-Serif\" font-size=\"14.00\" fill=\"#000000\">entropy = 0.544</text>\n<text text-anchor=\"start\" x=\"911\" y=\"-617.8\" font-family=\"Helvetica,sans-Serif\" font-size=\"14.00\" fill=\"#000000\">samples = 8</text>\n<text text-anchor=\"start\" x=\"909\" y=\"-602.8\" font-family=\"Helvetica,sans-Serif\" font-size=\"14.00\" fill=\"#000000\">value = [7, 1]</text>\n<text text-anchor=\"start\" x=\"891.5\" y=\"-587.8\" font-family=\"Helvetica,sans-Serif\" font-size=\"14.00\" fill=\"#000000\">class = Demented</text>\n</g>\n<!-- 28&#45;&gt;30 -->\n<g id=\"edge30\" class=\"edge\">\n<title>28&#45;&gt;30</title>\n<path fill=\"none\" stroke=\"#000000\" d=\"M950.5,-698.8796C950.5,-690.6838 950.5,-681.9891 950.5,-673.5013\"/>\n<polygon fill=\"#000000\" stroke=\"#000000\" points=\"954.0001,-673.298 950.5,-663.2981 947.0001,-673.2981 954.0001,-673.298\"/>\n</g>\n<!-- 31 -->\n<g id=\"node32\" class=\"node\">\n<title>31</title>\n<path fill=\"#e58139\" stroke=\"#000000\" d=\"M837.5,-536.5C837.5,-536.5 727.5,-536.5 727.5,-536.5 721.5,-536.5 715.5,-530.5 715.5,-524.5 715.5,-524.5 715.5,-480.5 715.5,-480.5 715.5,-474.5 721.5,-468.5 727.5,-468.5 727.5,-468.5 837.5,-468.5 837.5,-468.5 843.5,-468.5 849.5,-474.5 849.5,-480.5 849.5,-480.5 849.5,-524.5 849.5,-524.5 849.5,-530.5 843.5,-536.5 837.5,-536.5\"/>\n<text text-anchor=\"start\" x=\"740\" y=\"-521.3\" font-family=\"Helvetica,sans-Serif\" font-size=\"14.00\" fill=\"#000000\">entropy = 0.0</text>\n<text text-anchor=\"start\" x=\"743\" y=\"-506.3\" font-family=\"Helvetica,sans-Serif\" font-size=\"14.00\" fill=\"#000000\">samples = 7</text>\n<text text-anchor=\"start\" x=\"741\" y=\"-491.3\" font-family=\"Helvetica,sans-Serif\" font-size=\"14.00\" fill=\"#000000\">value = [7, 0]</text>\n<text text-anchor=\"start\" x=\"723.5\" y=\"-476.3\" font-family=\"Helvetica,sans-Serif\" font-size=\"14.00\" fill=\"#000000\">class = Demented</text>\n</g>\n<!-- 30&#45;&gt;31 -->\n<g id=\"edge31\" class=\"edge\">\n<title>30&#45;&gt;31</title>\n<path fill=\"none\" stroke=\"#000000\" d=\"M891.7418,-579.8796C874.5842,-567.7263 855.8777,-554.4759 838.8714,-542.4297\"/>\n<polygon fill=\"#000000\" stroke=\"#000000\" points=\"840.857,-539.5472 830.6737,-536.623 836.8109,-545.2593 840.857,-539.5472\"/>\n</g>\n<!-- 32 -->\n<g id=\"node33\" class=\"node\">\n<title>32</title>\n<path fill=\"#399de5\" stroke=\"#000000\" d=\"M1021,-536.5C1021,-536.5 880,-536.5 880,-536.5 874,-536.5 868,-530.5 868,-524.5 868,-524.5 868,-480.5 868,-480.5 868,-474.5 874,-468.5 880,-468.5 880,-468.5 1021,-468.5 1021,-468.5 1027,-468.5 1033,-474.5 1033,-480.5 1033,-480.5 1033,-524.5 1033,-524.5 1033,-530.5 1027,-536.5 1021,-536.5\"/>\n<text text-anchor=\"start\" x=\"908\" y=\"-521.3\" font-family=\"Helvetica,sans-Serif\" font-size=\"14.00\" fill=\"#000000\">entropy = 0.0</text>\n<text text-anchor=\"start\" x=\"911\" y=\"-506.3\" font-family=\"Helvetica,sans-Serif\" font-size=\"14.00\" fill=\"#000000\">samples = 1</text>\n<text text-anchor=\"start\" x=\"909\" y=\"-491.3\" font-family=\"Helvetica,sans-Serif\" font-size=\"14.00\" fill=\"#000000\">value = [0, 1]</text>\n<text text-anchor=\"start\" x=\"876\" y=\"-476.3\" font-family=\"Helvetica,sans-Serif\" font-size=\"14.00\" fill=\"#000000\">class = Non&#45;Demented</text>\n</g>\n<!-- 30&#45;&gt;32 -->\n<g id=\"edge32\" class=\"edge\">\n<title>30&#45;&gt;32</title>\n<path fill=\"none\" stroke=\"#000000\" d=\"M950.5,-579.8796C950.5,-569.2134 950.5,-557.7021 950.5,-546.9015\"/>\n<polygon fill=\"#000000\" stroke=\"#000000\" points=\"954.0001,-546.8149 950.5,-536.8149 947.0001,-546.815 954.0001,-546.8149\"/>\n</g>\n<!-- 34 -->\n<g id=\"node35\" class=\"node\">\n<title>34</title>\n<path fill=\"#bddef6\" stroke=\"#000000\" d=\"M1280,-663C1280,-663 1139,-663 1139,-663 1133,-663 1127,-657 1127,-651 1127,-651 1127,-592 1127,-592 1127,-586 1133,-580 1139,-580 1139,-580 1280,-580 1280,-580 1286,-580 1292,-586 1292,-592 1292,-592 1292,-651 1292,-651 1292,-657 1286,-663 1280,-663\"/>\n<text text-anchor=\"start\" x=\"1164\" y=\"-647.8\" font-family=\"Helvetica,sans-Serif\" font-size=\"14.00\" fill=\"#000000\">eTIV ≤ 1458.0</text>\n<text text-anchor=\"start\" x=\"1158.5\" y=\"-632.8\" font-family=\"Helvetica,sans-Serif\" font-size=\"14.00\" fill=\"#000000\">entropy = 0.971</text>\n<text text-anchor=\"start\" x=\"1170\" y=\"-617.8\" font-family=\"Helvetica,sans-Serif\" font-size=\"14.00\" fill=\"#000000\">samples = 5</text>\n<text text-anchor=\"start\" x=\"1168\" y=\"-602.8\" font-family=\"Helvetica,sans-Serif\" font-size=\"14.00\" fill=\"#000000\">value = [2, 3]</text>\n<text text-anchor=\"start\" x=\"1135\" y=\"-587.8\" font-family=\"Helvetica,sans-Serif\" font-size=\"14.00\" fill=\"#000000\">class = Non&#45;Demented</text>\n</g>\n<!-- 33&#45;&gt;34 -->\n<g id=\"edge34\" class=\"edge\">\n<title>33&#45;&gt;34</title>\n<path fill=\"none\" stroke=\"#000000\" d=\"M1209.5,-698.8796C1209.5,-690.6838 1209.5,-681.9891 1209.5,-673.5013\"/>\n<polygon fill=\"#000000\" stroke=\"#000000\" points=\"1213.0001,-673.298 1209.5,-663.2981 1206.0001,-673.2981 1213.0001,-673.298\"/>\n</g>\n<!-- 37 -->\n<g id=\"node38\" class=\"node\">\n<title>37</title>\n<path fill=\"#e78d4c\" stroke=\"#000000\" d=\"M1508.5,-663C1508.5,-663 1398.5,-663 1398.5,-663 1392.5,-663 1386.5,-657 1386.5,-651 1386.5,-651 1386.5,-592 1386.5,-592 1386.5,-586 1392.5,-580 1398.5,-580 1398.5,-580 1508.5,-580 1508.5,-580 1514.5,-580 1520.5,-586 1520.5,-592 1520.5,-592 1520.5,-651 1520.5,-651 1520.5,-657 1514.5,-663 1508.5,-663\"/>\n<text text-anchor=\"start\" x=\"1408\" y=\"-647.8\" font-family=\"Helvetica,sans-Serif\" font-size=\"14.00\" fill=\"#000000\">eTIV ≤ 1507.5</text>\n<text text-anchor=\"start\" x=\"1402.5\" y=\"-632.8\" font-family=\"Helvetica,sans-Serif\" font-size=\"14.00\" fill=\"#000000\">entropy = 0.426</text>\n<text text-anchor=\"start\" x=\"1409.5\" y=\"-617.8\" font-family=\"Helvetica,sans-Serif\" font-size=\"14.00\" fill=\"#000000\">samples = 23</text>\n<text text-anchor=\"start\" x=\"1408\" y=\"-602.8\" font-family=\"Helvetica,sans-Serif\" font-size=\"14.00\" fill=\"#000000\">value = [21, 2]</text>\n<text text-anchor=\"start\" x=\"1394.5\" y=\"-587.8\" font-family=\"Helvetica,sans-Serif\" font-size=\"14.00\" fill=\"#000000\">class = Demented</text>\n</g>\n<!-- 33&#45;&gt;37 -->\n<g id=\"edge37\" class=\"edge\">\n<title>33&#45;&gt;37</title>\n<path fill=\"none\" stroke=\"#000000\" d=\"M1276.82,-707.6677C1307.8895,-692.515 1344.9245,-674.4528 1377.0426,-658.7887\"/>\n<polygon fill=\"#000000\" stroke=\"#000000\" points=\"1378.9459,-661.7545 1386.3997,-654.2251 1375.8774,-655.4629 1378.9459,-661.7545\"/>\n</g>\n<!-- 35 -->\n<g id=\"node36\" class=\"node\">\n<title>35</title>\n<path fill=\"#399de5\" stroke=\"#000000\" d=\"M1204,-536.5C1204,-536.5 1063,-536.5 1063,-536.5 1057,-536.5 1051,-530.5 1051,-524.5 1051,-524.5 1051,-480.5 1051,-480.5 1051,-474.5 1057,-468.5 1063,-468.5 1063,-468.5 1204,-468.5 1204,-468.5 1210,-468.5 1216,-474.5 1216,-480.5 1216,-480.5 1216,-524.5 1216,-524.5 1216,-530.5 1210,-536.5 1204,-536.5\"/>\n<text text-anchor=\"start\" x=\"1091\" y=\"-521.3\" font-family=\"Helvetica,sans-Serif\" font-size=\"14.00\" fill=\"#000000\">entropy = 0.0</text>\n<text text-anchor=\"start\" x=\"1094\" y=\"-506.3\" font-family=\"Helvetica,sans-Serif\" font-size=\"14.00\" fill=\"#000000\">samples = 3</text>\n<text text-anchor=\"start\" x=\"1092\" y=\"-491.3\" font-family=\"Helvetica,sans-Serif\" font-size=\"14.00\" fill=\"#000000\">value = [0, 3]</text>\n<text text-anchor=\"start\" x=\"1059\" y=\"-476.3\" font-family=\"Helvetica,sans-Serif\" font-size=\"14.00\" fill=\"#000000\">class = Non&#45;Demented</text>\n</g>\n<!-- 34&#45;&gt;35 -->\n<g id=\"edge35\" class=\"edge\">\n<title>34&#45;&gt;35</title>\n<path fill=\"none\" stroke=\"#000000\" d=\"M1182.9189,-579.8796C1175.826,-568.7735 1168.1479,-556.7513 1161.0063,-545.5691\"/>\n<polygon fill=\"#000000\" stroke=\"#000000\" points=\"1163.7477,-543.3589 1155.4154,-536.8149 1157.8482,-547.1267 1163.7477,-543.3589\"/>\n</g>\n<!-- 36 -->\n<g id=\"node37\" class=\"node\">\n<title>36</title>\n<path fill=\"#e58139\" stroke=\"#000000\" d=\"M1356.5,-536.5C1356.5,-536.5 1246.5,-536.5 1246.5,-536.5 1240.5,-536.5 1234.5,-530.5 1234.5,-524.5 1234.5,-524.5 1234.5,-480.5 1234.5,-480.5 1234.5,-474.5 1240.5,-468.5 1246.5,-468.5 1246.5,-468.5 1356.5,-468.5 1356.5,-468.5 1362.5,-468.5 1368.5,-474.5 1368.5,-480.5 1368.5,-480.5 1368.5,-524.5 1368.5,-524.5 1368.5,-530.5 1362.5,-536.5 1356.5,-536.5\"/>\n<text text-anchor=\"start\" x=\"1259\" y=\"-521.3\" font-family=\"Helvetica,sans-Serif\" font-size=\"14.00\" fill=\"#000000\">entropy = 0.0</text>\n<text text-anchor=\"start\" x=\"1262\" y=\"-506.3\" font-family=\"Helvetica,sans-Serif\" font-size=\"14.00\" fill=\"#000000\">samples = 2</text>\n<text text-anchor=\"start\" x=\"1260\" y=\"-491.3\" font-family=\"Helvetica,sans-Serif\" font-size=\"14.00\" fill=\"#000000\">value = [2, 0]</text>\n<text text-anchor=\"start\" x=\"1242.5\" y=\"-476.3\" font-family=\"Helvetica,sans-Serif\" font-size=\"14.00\" fill=\"#000000\">class = Demented</text>\n</g>\n<!-- 34&#45;&gt;36 -->\n<g id=\"edge36\" class=\"edge\">\n<title>34&#45;&gt;36</title>\n<path fill=\"none\" stroke=\"#000000\" d=\"M1241.6771,-579.8796C1250.4333,-568.5536 1259.9262,-556.2748 1268.7156,-544.9058\"/>\n<polygon fill=\"#000000\" stroke=\"#000000\" points=\"1271.6234,-546.8671 1274.9708,-536.8149 1266.0854,-542.5856 1271.6234,-546.8671\"/>\n</g>\n<!-- 38 -->\n<g id=\"node39\" class=\"node\">\n<title>38</title>\n<path fill=\"#e68742\" stroke=\"#000000\" d=\"M1508.5,-544C1508.5,-544 1398.5,-544 1398.5,-544 1392.5,-544 1386.5,-538 1386.5,-532 1386.5,-532 1386.5,-473 1386.5,-473 1386.5,-467 1392.5,-461 1398.5,-461 1398.5,-461 1508.5,-461 1508.5,-461 1514.5,-461 1520.5,-467 1520.5,-473 1520.5,-473 1520.5,-532 1520.5,-532 1520.5,-538 1514.5,-544 1508.5,-544\"/>\n<text text-anchor=\"start\" x=\"1411\" y=\"-528.8\" font-family=\"Helvetica,sans-Serif\" font-size=\"14.00\" fill=\"#000000\">EDUC ≤ 12.5</text>\n<text text-anchor=\"start\" x=\"1402.5\" y=\"-513.8\" font-family=\"Helvetica,sans-Serif\" font-size=\"14.00\" fill=\"#000000\">entropy = 0.267</text>\n<text text-anchor=\"start\" x=\"1409.5\" y=\"-498.8\" font-family=\"Helvetica,sans-Serif\" font-size=\"14.00\" fill=\"#000000\">samples = 22</text>\n<text text-anchor=\"start\" x=\"1408\" y=\"-483.8\" font-family=\"Helvetica,sans-Serif\" font-size=\"14.00\" fill=\"#000000\">value = [21, 1]</text>\n<text text-anchor=\"start\" x=\"1394.5\" y=\"-468.8\" font-family=\"Helvetica,sans-Serif\" font-size=\"14.00\" fill=\"#000000\">class = Demented</text>\n</g>\n<!-- 37&#45;&gt;38 -->\n<g id=\"edge38\" class=\"edge\">\n<title>37&#45;&gt;38</title>\n<path fill=\"none\" stroke=\"#000000\" d=\"M1453.5,-579.8796C1453.5,-571.6838 1453.5,-562.9891 1453.5,-554.5013\"/>\n<polygon fill=\"#000000\" stroke=\"#000000\" points=\"1457.0001,-554.298 1453.5,-544.2981 1450.0001,-554.2981 1457.0001,-554.298\"/>\n</g>\n<!-- 43 -->\n<g id=\"node44\" class=\"node\">\n<title>43</title>\n<path fill=\"#399de5\" stroke=\"#000000\" d=\"M1692,-536.5C1692,-536.5 1551,-536.5 1551,-536.5 1545,-536.5 1539,-530.5 1539,-524.5 1539,-524.5 1539,-480.5 1539,-480.5 1539,-474.5 1545,-468.5 1551,-468.5 1551,-468.5 1692,-468.5 1692,-468.5 1698,-468.5 1704,-474.5 1704,-480.5 1704,-480.5 1704,-524.5 1704,-524.5 1704,-530.5 1698,-536.5 1692,-536.5\"/>\n<text text-anchor=\"start\" x=\"1579\" y=\"-521.3\" font-family=\"Helvetica,sans-Serif\" font-size=\"14.00\" fill=\"#000000\">entropy = 0.0</text>\n<text text-anchor=\"start\" x=\"1582\" y=\"-506.3\" font-family=\"Helvetica,sans-Serif\" font-size=\"14.00\" fill=\"#000000\">samples = 1</text>\n<text text-anchor=\"start\" x=\"1580\" y=\"-491.3\" font-family=\"Helvetica,sans-Serif\" font-size=\"14.00\" fill=\"#000000\">value = [0, 1]</text>\n<text text-anchor=\"start\" x=\"1547\" y=\"-476.3\" font-family=\"Helvetica,sans-Serif\" font-size=\"14.00\" fill=\"#000000\">class = Non&#45;Demented</text>\n</g>\n<!-- 37&#45;&gt;43 -->\n<g id=\"edge43\" class=\"edge\">\n<title>37&#45;&gt;43</title>\n<path fill=\"none\" stroke=\"#000000\" d=\"M1512.2582,-579.8796C1529.4158,-567.7263 1548.1223,-554.4759 1565.1286,-542.4297\"/>\n<polygon fill=\"#000000\" stroke=\"#000000\" points=\"1567.1891,-545.2593 1573.3263,-536.623 1563.143,-539.5472 1567.1891,-545.2593\"/>\n</g>\n<!-- 39 -->\n<g id=\"node40\" class=\"node\">\n<title>39</title>\n<path fill=\"#eca06a\" stroke=\"#000000\" d=\"M1432.5,-425C1432.5,-425 1322.5,-425 1322.5,-425 1316.5,-425 1310.5,-419 1310.5,-413 1310.5,-413 1310.5,-354 1310.5,-354 1310.5,-348 1316.5,-342 1322.5,-342 1322.5,-342 1432.5,-342 1432.5,-342 1438.5,-342 1444.5,-348 1444.5,-354 1444.5,-354 1444.5,-413 1444.5,-413 1444.5,-419 1438.5,-425 1432.5,-425\"/>\n<text text-anchor=\"start\" x=\"1345\" y=\"-409.8\" font-family=\"Helvetica,sans-Serif\" font-size=\"14.00\" fill=\"#000000\">SES ≤ 3.5</text>\n<text text-anchor=\"start\" x=\"1326.5\" y=\"-394.8\" font-family=\"Helvetica,sans-Serif\" font-size=\"14.00\" fill=\"#000000\">entropy = 0.722</text>\n<text text-anchor=\"start\" x=\"1338\" y=\"-379.8\" font-family=\"Helvetica,sans-Serif\" font-size=\"14.00\" fill=\"#000000\">samples = 5</text>\n<text text-anchor=\"start\" x=\"1336\" y=\"-364.8\" font-family=\"Helvetica,sans-Serif\" font-size=\"14.00\" fill=\"#000000\">value = [4, 1]</text>\n<text text-anchor=\"start\" x=\"1318.5\" y=\"-349.8\" font-family=\"Helvetica,sans-Serif\" font-size=\"14.00\" fill=\"#000000\">class = Demented</text>\n</g>\n<!-- 38&#45;&gt;39 -->\n<g id=\"edge39\" class=\"edge\">\n<title>38&#45;&gt;39</title>\n<path fill=\"none\" stroke=\"#000000\" d=\"M1426.9189,-460.8796C1421.3395,-452.1434 1415.3981,-442.8404 1409.6405,-433.8253\"/>\n<polygon fill=\"#000000\" stroke=\"#000000\" points=\"1412.5269,-431.8421 1404.1946,-425.2981 1406.6274,-435.6098 1412.5269,-431.8421\"/>\n</g>\n<!-- 42 -->\n<g id=\"node43\" class=\"node\">\n<title>42</title>\n<path fill=\"#e58139\" stroke=\"#000000\" d=\"M1584.5,-417.5C1584.5,-417.5 1474.5,-417.5 1474.5,-417.5 1468.5,-417.5 1462.5,-411.5 1462.5,-405.5 1462.5,-405.5 1462.5,-361.5 1462.5,-361.5 1462.5,-355.5 1468.5,-349.5 1474.5,-349.5 1474.5,-349.5 1584.5,-349.5 1584.5,-349.5 1590.5,-349.5 1596.5,-355.5 1596.5,-361.5 1596.5,-361.5 1596.5,-405.5 1596.5,-405.5 1596.5,-411.5 1590.5,-417.5 1584.5,-417.5\"/>\n<text text-anchor=\"start\" x=\"1487\" y=\"-402.3\" font-family=\"Helvetica,sans-Serif\" font-size=\"14.00\" fill=\"#000000\">entropy = 0.0</text>\n<text text-anchor=\"start\" x=\"1485.5\" y=\"-387.3\" font-family=\"Helvetica,sans-Serif\" font-size=\"14.00\" fill=\"#000000\">samples = 17</text>\n<text text-anchor=\"start\" x=\"1484\" y=\"-372.3\" font-family=\"Helvetica,sans-Serif\" font-size=\"14.00\" fill=\"#000000\">value = [17, 0]</text>\n<text text-anchor=\"start\" x=\"1470.5\" y=\"-357.3\" font-family=\"Helvetica,sans-Serif\" font-size=\"14.00\" fill=\"#000000\">class = Demented</text>\n</g>\n<!-- 38&#45;&gt;42 -->\n<g id=\"edge42\" class=\"edge\">\n<title>38&#45;&gt;42</title>\n<path fill=\"none\" stroke=\"#000000\" d=\"M1480.0811,-460.8796C1487.174,-449.7735 1494.8521,-437.7513 1501.9937,-426.5691\"/>\n<polygon fill=\"#000000\" stroke=\"#000000\" points=\"1505.1518,-428.1267 1507.5846,-417.8149 1499.2523,-424.3589 1505.1518,-428.1267\"/>\n</g>\n<!-- 40 -->\n<g id=\"node41\" class=\"node\">\n<title>40</title>\n<path fill=\"#399de5\" stroke=\"#000000\" d=\"M1364,-298.5C1364,-298.5 1223,-298.5 1223,-298.5 1217,-298.5 1211,-292.5 1211,-286.5 1211,-286.5 1211,-242.5 1211,-242.5 1211,-236.5 1217,-230.5 1223,-230.5 1223,-230.5 1364,-230.5 1364,-230.5 1370,-230.5 1376,-236.5 1376,-242.5 1376,-242.5 1376,-286.5 1376,-286.5 1376,-292.5 1370,-298.5 1364,-298.5\"/>\n<text text-anchor=\"start\" x=\"1251\" y=\"-283.3\" font-family=\"Helvetica,sans-Serif\" font-size=\"14.00\" fill=\"#000000\">entropy = 0.0</text>\n<text text-anchor=\"start\" x=\"1254\" y=\"-268.3\" font-family=\"Helvetica,sans-Serif\" font-size=\"14.00\" fill=\"#000000\">samples = 1</text>\n<text text-anchor=\"start\" x=\"1252\" y=\"-253.3\" font-family=\"Helvetica,sans-Serif\" font-size=\"14.00\" fill=\"#000000\">value = [0, 1]</text>\n<text text-anchor=\"start\" x=\"1219\" y=\"-238.3\" font-family=\"Helvetica,sans-Serif\" font-size=\"14.00\" fill=\"#000000\">class = Non&#45;Demented</text>\n</g>\n<!-- 39&#45;&gt;40 -->\n<g id=\"edge40\" class=\"edge\">\n<title>39&#45;&gt;40</title>\n<path fill=\"none\" stroke=\"#000000\" d=\"M1348.1209,-341.8796C1340.2037,-330.6636 1331.6269,-318.5131 1323.6675,-307.2372\"/>\n<polygon fill=\"#000000\" stroke=\"#000000\" points=\"1326.3486,-304.9662 1317.7223,-298.8149 1320.6298,-309.003 1326.3486,-304.9662\"/>\n</g>\n<!-- 41 -->\n<g id=\"node42\" class=\"node\">\n<title>41</title>\n<path fill=\"#e58139\" stroke=\"#000000\" d=\"M1516.5,-298.5C1516.5,-298.5 1406.5,-298.5 1406.5,-298.5 1400.5,-298.5 1394.5,-292.5 1394.5,-286.5 1394.5,-286.5 1394.5,-242.5 1394.5,-242.5 1394.5,-236.5 1400.5,-230.5 1406.5,-230.5 1406.5,-230.5 1516.5,-230.5 1516.5,-230.5 1522.5,-230.5 1528.5,-236.5 1528.5,-242.5 1528.5,-242.5 1528.5,-286.5 1528.5,-286.5 1528.5,-292.5 1522.5,-298.5 1516.5,-298.5\"/>\n<text text-anchor=\"start\" x=\"1419\" y=\"-283.3\" font-family=\"Helvetica,sans-Serif\" font-size=\"14.00\" fill=\"#000000\">entropy = 0.0</text>\n<text text-anchor=\"start\" x=\"1422\" y=\"-268.3\" font-family=\"Helvetica,sans-Serif\" font-size=\"14.00\" fill=\"#000000\">samples = 4</text>\n<text text-anchor=\"start\" x=\"1420\" y=\"-253.3\" font-family=\"Helvetica,sans-Serif\" font-size=\"14.00\" fill=\"#000000\">value = [4, 0]</text>\n<text text-anchor=\"start\" x=\"1402.5\" y=\"-238.3\" font-family=\"Helvetica,sans-Serif\" font-size=\"14.00\" fill=\"#000000\">class = Demented</text>\n</g>\n<!-- 39&#45;&gt;41 -->\n<g id=\"edge41\" class=\"edge\">\n<title>39&#45;&gt;41</title>\n<path fill=\"none\" stroke=\"#000000\" d=\"M1406.8791,-341.8796C1414.7963,-330.6636 1423.3731,-318.5131 1431.3325,-307.2372\"/>\n<polygon fill=\"#000000\" stroke=\"#000000\" points=\"1434.3702,-309.003 1437.2777,-298.8149 1428.6514,-304.9662 1434.3702,-309.003\"/>\n</g>\n<!-- 45 -->\n<g id=\"node46\" class=\"node\">\n<title>45</title>\n<path fill=\"#46a4e7\" stroke=\"#000000\" d=\"M1067,-1139C1067,-1139 926,-1139 926,-1139 920,-1139 914,-1133 914,-1127 914,-1127 914,-1068 914,-1068 914,-1062 920,-1056 926,-1056 926,-1056 1067,-1056 1067,-1056 1073,-1056 1079,-1062 1079,-1068 1079,-1068 1079,-1127 1079,-1127 1079,-1133 1073,-1139 1067,-1139\"/>\n<text text-anchor=\"start\" x=\"951\" y=\"-1123.8\" font-family=\"Helvetica,sans-Serif\" font-size=\"14.00\" fill=\"#000000\">eTIV ≤ 1702.5</text>\n<text text-anchor=\"start\" x=\"945.5\" y=\"-1108.8\" font-family=\"Helvetica,sans-Serif\" font-size=\"14.00\" fill=\"#000000\">entropy = 0.337</text>\n<text text-anchor=\"start\" x=\"952.5\" y=\"-1093.8\" font-family=\"Helvetica,sans-Serif\" font-size=\"14.00\" fill=\"#000000\">samples = 16</text>\n<text text-anchor=\"start\" x=\"951\" y=\"-1078.8\" font-family=\"Helvetica,sans-Serif\" font-size=\"14.00\" fill=\"#000000\">value = [1, 15]</text>\n<text text-anchor=\"start\" x=\"922\" y=\"-1063.8\" font-family=\"Helvetica,sans-Serif\" font-size=\"14.00\" fill=\"#000000\">class = Non&#45;Demented</text>\n</g>\n<!-- 44&#45;&gt;45 -->\n<g id=\"edge45\" class=\"edge\">\n<title>44&#45;&gt;45</title>\n<path fill=\"none\" stroke=\"#000000\" d=\"M996.5,-1174.8796C996.5,-1166.6838 996.5,-1157.9891 996.5,-1149.5013\"/>\n<polygon fill=\"#000000\" stroke=\"#000000\" points=\"1000.0001,-1149.298 996.5,-1139.2981 993.0001,-1149.2981 1000.0001,-1149.298\"/>\n</g>\n<!-- 48 -->\n<g id=\"node49\" class=\"node\">\n<title>48</title>\n<path fill=\"#399de5\" stroke=\"#000000\" d=\"M1250,-1131.5C1250,-1131.5 1109,-1131.5 1109,-1131.5 1103,-1131.5 1097,-1125.5 1097,-1119.5 1097,-1119.5 1097,-1075.5 1097,-1075.5 1097,-1069.5 1103,-1063.5 1109,-1063.5 1109,-1063.5 1250,-1063.5 1250,-1063.5 1256,-1063.5 1262,-1069.5 1262,-1075.5 1262,-1075.5 1262,-1119.5 1262,-1119.5 1262,-1125.5 1256,-1131.5 1250,-1131.5\"/>\n<text text-anchor=\"start\" x=\"1137\" y=\"-1116.3\" font-family=\"Helvetica,sans-Serif\" font-size=\"14.00\" fill=\"#000000\">entropy = 0.0</text>\n<text text-anchor=\"start\" x=\"1131.5\" y=\"-1101.3\" font-family=\"Helvetica,sans-Serif\" font-size=\"14.00\" fill=\"#000000\">samples = 103</text>\n<text text-anchor=\"start\" x=\"1129.5\" y=\"-1086.3\" font-family=\"Helvetica,sans-Serif\" font-size=\"14.00\" fill=\"#000000\">value = [0, 103]</text>\n<text text-anchor=\"start\" x=\"1105\" y=\"-1071.3\" font-family=\"Helvetica,sans-Serif\" font-size=\"14.00\" fill=\"#000000\">class = Non&#45;Demented</text>\n</g>\n<!-- 44&#45;&gt;48 -->\n<g id=\"edge48\" class=\"edge\">\n<title>44&#45;&gt;48</title>\n<path fill=\"none\" stroke=\"#000000\" d=\"M1060.5045,-1174.8796C1079.3639,-1162.6158 1099.9414,-1149.2348 1118.6002,-1137.1015\"/>\n<polygon fill=\"#000000\" stroke=\"#000000\" points=\"1120.5497,-1140.0088 1127.0251,-1131.623 1116.7336,-1134.1404 1120.5497,-1140.0088\"/>\n</g>\n<!-- 46 -->\n<g id=\"node47\" class=\"node\">\n<title>46</title>\n<path fill=\"#e58139\" stroke=\"#000000\" d=\"M1047.5,-1012.5C1047.5,-1012.5 937.5,-1012.5 937.5,-1012.5 931.5,-1012.5 925.5,-1006.5 925.5,-1000.5 925.5,-1000.5 925.5,-956.5 925.5,-956.5 925.5,-950.5 931.5,-944.5 937.5,-944.5 937.5,-944.5 1047.5,-944.5 1047.5,-944.5 1053.5,-944.5 1059.5,-950.5 1059.5,-956.5 1059.5,-956.5 1059.5,-1000.5 1059.5,-1000.5 1059.5,-1006.5 1053.5,-1012.5 1047.5,-1012.5\"/>\n<text text-anchor=\"start\" x=\"950\" y=\"-997.3\" font-family=\"Helvetica,sans-Serif\" font-size=\"14.00\" fill=\"#000000\">entropy = 0.0</text>\n<text text-anchor=\"start\" x=\"953\" y=\"-982.3\" font-family=\"Helvetica,sans-Serif\" font-size=\"14.00\" fill=\"#000000\">samples = 1</text>\n<text text-anchor=\"start\" x=\"951\" y=\"-967.3\" font-family=\"Helvetica,sans-Serif\" font-size=\"14.00\" fill=\"#000000\">value = [1, 0]</text>\n<text text-anchor=\"start\" x=\"933.5\" y=\"-952.3\" font-family=\"Helvetica,sans-Serif\" font-size=\"14.00\" fill=\"#000000\">class = Demented</text>\n</g>\n<!-- 45&#45;&gt;46 -->\n<g id=\"edge46\" class=\"edge\">\n<title>45&#45;&gt;46</title>\n<path fill=\"none\" stroke=\"#000000\" d=\"M995.101,-1055.8796C994.7425,-1045.2134 994.3555,-1033.7021 993.9925,-1022.9015\"/>\n<polygon fill=\"#000000\" stroke=\"#000000\" points=\"997.4875,-1022.6917 993.6534,-1012.8149 990.4915,-1022.9269 997.4875,-1022.6917\"/>\n</g>\n<!-- 47 -->\n<g id=\"node48\" class=\"node\">\n<title>47</title>\n<path fill=\"#399de5\" stroke=\"#000000\" d=\"M1231,-1012.5C1231,-1012.5 1090,-1012.5 1090,-1012.5 1084,-1012.5 1078,-1006.5 1078,-1000.5 1078,-1000.5 1078,-956.5 1078,-956.5 1078,-950.5 1084,-944.5 1090,-944.5 1090,-944.5 1231,-944.5 1231,-944.5 1237,-944.5 1243,-950.5 1243,-956.5 1243,-956.5 1243,-1000.5 1243,-1000.5 1243,-1006.5 1237,-1012.5 1231,-1012.5\"/>\n<text text-anchor=\"start\" x=\"1118\" y=\"-997.3\" font-family=\"Helvetica,sans-Serif\" font-size=\"14.00\" fill=\"#000000\">entropy = 0.0</text>\n<text text-anchor=\"start\" x=\"1116.5\" y=\"-982.3\" font-family=\"Helvetica,sans-Serif\" font-size=\"14.00\" fill=\"#000000\">samples = 15</text>\n<text text-anchor=\"start\" x=\"1115\" y=\"-967.3\" font-family=\"Helvetica,sans-Serif\" font-size=\"14.00\" fill=\"#000000\">value = [0, 15]</text>\n<text text-anchor=\"start\" x=\"1086\" y=\"-952.3\" font-family=\"Helvetica,sans-Serif\" font-size=\"14.00\" fill=\"#000000\">class = Non&#45;Demented</text>\n</g>\n<!-- 45&#45;&gt;47 -->\n<g id=\"edge47\" class=\"edge\">\n<title>45&#45;&gt;47</title>\n<path fill=\"none\" stroke=\"#000000\" d=\"M1053.8592,-1055.8796C1070.4561,-1043.8368 1088.5375,-1030.7167 1105.0176,-1018.7586\"/>\n<polygon fill=\"#000000\" stroke=\"#000000\" points=\"1107.4351,-1021.3288 1113.4733,-1012.623 1103.324,-1015.6632 1107.4351,-1021.3288\"/>\n</g>\n</g>\n</svg>\n"
          },
          "metadata": {},
          "execution_count": 23
        }
      ]
    },
    {
      "cell_type": "markdown",
      "source": [
        "### PICCOLO ESPERIMENTO"
      ],
      "metadata": {
        "id": "TjsFRUw-bVrI"
      }
    },
    {
      "cell_type": "markdown",
      "source": [
        "Il I metodo risulta essere migliore in termini di accuracy, quindi uso quest'ultimo per testare il modello. Inserisco un nuovo soggetto e predico se, tramite i dati, il paziente sarà o meno demente."
      ],
      "metadata": {
        "id": "TVMJJi8LqPxU"
      }
    },
    {
      "cell_type": "code",
      "source": [
        "paziente = np.array([[0, 74, 2.0, 13, 29.0, 0.0, 1344.0, 0.743, 1.306]])\n",
        "pred_paziente = model1.predict(paziente)\n",
        "if pred_paziente == 1:\n",
        "  print(\"Il paziente è demente\")\n",
        "else:\n",
        "  print(\"Il paziente non è demente\")"
      ],
      "metadata": {
        "colab": {
          "base_uri": "https://localhost:8080/"
        },
        "id": "i3NEK08UqnKl",
        "outputId": "737414ce-d156-415b-a86d-f99e100d331e"
      },
      "execution_count": null,
      "outputs": [
        {
          "output_type": "stream",
          "name": "stdout",
          "text": [
            "Il paziente non è demente\n"
          ]
        }
      ]
    }
  ]
}